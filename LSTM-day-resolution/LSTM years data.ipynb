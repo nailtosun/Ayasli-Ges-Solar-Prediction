{
 "cells": [
  {
   "cell_type": "code",
   "execution_count": 50,
   "metadata": {},
   "outputs": [],
   "source": [
    "import numpy as np\n",
    "import random\n",
    "import pandas as pd\n",
    "from keras.models import Model\n",
    "from keras.layers import Input,Dense,LSTM,Conv1D,Activation\n",
    "from keras import optimizers\n",
    "import keras\n",
    "import math as m"
   ]
  },
  {
   "cell_type": "code",
   "execution_count": 51,
   "metadata": {
    "collapsed": true
   },
   "outputs": [],
   "source": [
    "def input_vectors(time_series):\n",
    "    splitted_data = []\n",
    "    for i in range (0,time_series.shape[0] // 3 - 1):\n",
    "        chunk = time_series[i*3:(i+1)*3]\n",
    "        splitted_data.append(chunk.reshape(1,3,1))\n",
    "    return np.vstack(splitted_data)\n",
    "def prep_data(file_name):\n",
    "    days_data = []\n",
    "    with open(file_name) as f:\n",
    "        for i, line in enumerate(f):\n",
    "            if i:\n",
    "                sequence =  float(line.rstrip().split(',')[-1])\n",
    "                days_data.append(sequence)\n",
    "    days_data = np.array(days_data[::-1])\n",
    "    days_data -= days_data.min()\n",
    "    days_data /= days_data.max()\n",
    "    number_of_days = days_data.shape[0]\n",
    "    n = number_of_days\n",
    "    training = days_data[:-int(0.2*n)]\n",
    "    testing = days_data[-int(0.2*n):]\n",
    "    training_d = training[:-1]\n",
    "    training_l = training[1:]\n",
    "    testing_d = testing[:-1]\n",
    "    testing_l = testing[1:]\n",
    "    return input_vectors(training_d),input_vectors(training_l),input_vectors(testing_d), input_vectors(testing_l)\n",
    "\n",
    "def reshaper(v):\n",
    "    l = v.shape[0]\n",
    "    return v.reshape(l, 1)\n",
    "\n",
    "def subsample(l, y, n=1):\n",
    "    start = random.randint(0, l.shape[0]- (n+1))\n",
    "    subsample = l[start:start+n]\n",
    "    suby = y[start: start+n]\n",
    "    init = np.zeros((len(l) - n, 1))\n",
    "    return np.concatenate([init, subsample], axis=0), np.concatenate([init, suby], axis=0)"
   ]
  },
  {
   "cell_type": "code",
   "execution_count": 52,
   "metadata": {
    "collapsed": true
   },
   "outputs": [],
   "source": [
    "def lstm():\n",
    "    inp = Input(shape=(3, 1))\n",
    "    x = LSTM(32, return_sequences=True)(inp)\n",
    "    x = Dense(1, activation='relu')(x)\n",
    "    return Model(inputs=inp, outputs=x)\n",
    "def augment(xs, ys, times=5):\n",
    "    d, ts, f = xs.shape\n",
    "    aug_xs = []\n",
    "    aug_ys = []\n",
    "    for i in range(d):\n",
    "        for j in range(times-1):\n",
    "            random.seed(12)\n",
    "            q = random.randint(0, ts - 1)\n",
    "            ax, ay = subsample(xs[i], ys[i], n=q)\n",
    "            aug_xs.append(ax.reshape(1, ts, f))\n",
    "            aug_ys.append(ay.reshape(1, ts, f))\n",
    "    aug_xs = np.vstack(aug_xs)\n",
    "    aug_ys = np.vstack(aug_ys)\n",
    "    xs = np.concatenate([xs, aug_xs], axis=0)\n",
    "    ys = np.concatenate([ys, aug_ys], axis=0)\n",
    "    return xs, ys"
   ]
  },
  {
   "cell_type": "code",
   "execution_count": 53,
   "metadata": {},
   "outputs": [
    {
     "name": "stdout",
     "output_type": "stream",
     "text": [
      "_________________________________________________________________\n",
      "Layer (type)                 Output Shape              Param #   \n",
      "=================================================================\n",
      "input_11 (InputLayer)        (None, 3, 1)              0         \n",
      "_________________________________________________________________\n",
      "lstm_11 (LSTM)               (None, 3, 32)             4352      \n",
      "_________________________________________________________________\n",
      "dense_11 (Dense)             (None, 3, 1)              33        \n",
      "=================================================================\n",
      "Total params: 4,385\n",
      "Trainable params: 4,385\n",
      "Non-trainable params: 0\n",
      "_________________________________________________________________\n",
      "Train on 5040 samples, validate on 1250 samples\n",
      "Epoch 1/50\n",
      "5040/5040 [==============================] - 4s 840us/step - loss: 0.0189 - mean_squared_error: 0.0189 - val_loss: 0.0103 - val_mean_squared_error: 0.0103\n",
      "Epoch 2/50\n",
      "5040/5040 [==============================] - 3s 511us/step - loss: 0.0088 - mean_squared_error: 0.0088 - val_loss: 0.0099 - val_mean_squared_error: 0.0099\n",
      "Epoch 3/50\n",
      "5040/5040 [==============================] - 2s 495us/step - loss: 0.0087 - mean_squared_error: 0.0087 - val_loss: 0.0097 - val_mean_squared_error: 0.0097\n",
      "Epoch 4/50\n",
      "5040/5040 [==============================] - 3s 510us/step - loss: 0.0087 - mean_squared_error: 0.0087 - val_loss: 0.0096 - val_mean_squared_error: 0.0096\n",
      "Epoch 5/50\n",
      "5040/5040 [==============================] - 3s 586us/step - loss: 0.0086 - mean_squared_error: 0.0086 - val_loss: 0.0097 - val_mean_squared_error: 0.0097\n",
      "Epoch 6/50\n",
      "5040/5040 [==============================] - 3s 579us/step - loss: 0.0086 - mean_squared_error: 0.0086 - val_loss: 0.0094 - val_mean_squared_error: 0.0094\n",
      "Epoch 7/50\n",
      "5040/5040 [==============================] - 3s 527us/step - loss: 0.0085 - mean_squared_error: 0.0085 - val_loss: 0.0094 - val_mean_squared_error: 0.0094\n",
      "Epoch 8/50\n",
      "5040/5040 [==============================] - 2s 452us/step - loss: 0.0085 - mean_squared_error: 0.0085 - val_loss: 0.0095 - val_mean_squared_error: 0.0095\n",
      "Epoch 9/50\n",
      "5040/5040 [==============================] - 2s 443us/step - loss: 0.0085 - mean_squared_error: 0.0085 - val_loss: 0.0096 - val_mean_squared_error: 0.0096\n",
      "Epoch 10/50\n",
      "5040/5040 [==============================] - 2s 456us/step - loss: 0.0085 - mean_squared_error: 0.0085 - val_loss: 0.0094 - val_mean_squared_error: 0.0094\n",
      "Epoch 11/50\n",
      "5040/5040 [==============================] - 3s 593us/step - loss: 0.0085 - mean_squared_error: 0.0085 - val_loss: 0.0094 - val_mean_squared_error: 0.0094\n",
      "Epoch 12/50\n",
      "5040/5040 [==============================] - 3s 625us/step - loss: 0.0085 - mean_squared_error: 0.0085 - val_loss: 0.0095 - val_mean_squared_error: 0.0095\n",
      "Epoch 13/50\n",
      "5040/5040 [==============================] - 3s 626us/step - loss: 0.0085 - mean_squared_error: 0.0085 - val_loss: 0.0094 - val_mean_squared_error: 0.0094\n",
      "Epoch 14/50\n",
      "5040/5040 [==============================] - 3s 567us/step - loss: 0.0085 - mean_squared_error: 0.0085 - val_loss: 0.0094 - val_mean_squared_error: 0.0094\n",
      "Epoch 15/50\n",
      "5040/5040 [==============================] - 3s 510us/step - loss: 0.0085 - mean_squared_error: 0.0085 - val_loss: 0.0096 - val_mean_squared_error: 0.0096\n",
      "Epoch 16/50\n",
      "5040/5040 [==============================] - 3s 598us/step - loss: 0.0085 - mean_squared_error: 0.0085 - val_loss: 0.0096 - val_mean_squared_error: 0.0096\n",
      "Epoch 17/50\n",
      "5040/5040 [==============================] - 3s 555us/step - loss: 0.0085 - mean_squared_error: 0.0085 - val_loss: 0.0093 - val_mean_squared_error: 0.0093\n",
      "Epoch 18/50\n",
      "5040/5040 [==============================] - 2s 452us/step - loss: 0.0085 - mean_squared_error: 0.0085 - val_loss: 0.0094 - val_mean_squared_error: 0.0094\n",
      "Epoch 19/50\n",
      "5040/5040 [==============================] - 2s 426us/step - loss: 0.0085 - mean_squared_error: 0.0085 - val_loss: 0.0094 - val_mean_squared_error: 0.0094\n",
      "Epoch 20/50\n",
      "5040/5040 [==============================] - 3s 609us/step - loss: 0.0085 - mean_squared_error: 0.0085 - val_loss: 0.0095 - val_mean_squared_error: 0.0095\n",
      "Epoch 21/50\n",
      "5040/5040 [==============================] - 3s 535us/step - loss: 0.0085 - mean_squared_error: 0.0085 - val_loss: 0.0094 - val_mean_squared_error: 0.0094\n",
      "Epoch 22/50\n",
      "5040/5040 [==============================] - 2s 464us/step - loss: 0.0085 - mean_squared_error: 0.0085 - val_loss: 0.0094 - val_mean_squared_error: 0.0094\n",
      "Epoch 23/50\n",
      "5040/5040 [==============================] - 3s 504us/step - loss: 0.0085 - mean_squared_error: 0.0085 - val_loss: 0.0095 - val_mean_squared_error: 0.0095\n",
      "Epoch 24/50\n",
      "5040/5040 [==============================] - 3s 533us/step - loss: 0.0085 - mean_squared_error: 0.0085 - val_loss: 0.0095 - val_mean_squared_error: 0.0095\n",
      "Epoch 25/50\n",
      "5040/5040 [==============================] - 2s 427us/step - loss: 0.0085 - mean_squared_error: 0.0085 - val_loss: 0.0097 - val_mean_squared_error: 0.0097\n",
      "Epoch 26/50\n",
      "5040/5040 [==============================] - 2s 427us/step - loss: 0.0085 - mean_squared_error: 0.0085 - val_loss: 0.0094 - val_mean_squared_error: 0.0094\n",
      "Epoch 27/50\n",
      "5040/5040 [==============================] - 2s 426us/step - loss: 0.0085 - mean_squared_error: 0.0085 - val_loss: 0.0095 - val_mean_squared_error: 0.0095\n",
      "Epoch 28/50\n",
      "5040/5040 [==============================] - 3s 580us/step - loss: 0.0085 - mean_squared_error: 0.0085 - val_loss: 0.0094 - val_mean_squared_error: 0.0094\n",
      "Epoch 29/50\n",
      "5040/5040 [==============================] - 2s 454us/step - loss: 0.0085 - mean_squared_error: 0.0085 - val_loss: 0.0095 - val_mean_squared_error: 0.0095\n",
      "Epoch 30/50\n",
      "5040/5040 [==============================] - 2s 440us/step - loss: 0.0085 - mean_squared_error: 0.0085 - val_loss: 0.0096 - val_mean_squared_error: 0.0096\n",
      "Epoch 31/50\n",
      "5040/5040 [==============================] - 4s 740us/step - loss: 0.0085 - mean_squared_error: 0.0085 - val_loss: 0.0095 - val_mean_squared_error: 0.0095\n",
      "Epoch 32/50\n",
      "5040/5040 [==============================] - 4s 782us/step - loss: 0.0085 - mean_squared_error: 0.0085 - val_loss: 0.0097 - val_mean_squared_error: 0.0097\n",
      "Epoch 33/50\n",
      "5040/5040 [==============================] - 3s 546us/step - loss: 0.0085 - mean_squared_error: 0.0085 - val_loss: 0.0095 - val_mean_squared_error: 0.0095\n",
      "Epoch 34/50\n",
      "5040/5040 [==============================] - 3s 583us/step - loss: 0.0085 - mean_squared_error: 0.0085 - val_loss: 0.0096 - val_mean_squared_error: 0.0096\n",
      "Epoch 35/50\n",
      "5040/5040 [==============================] - 3s 557us/step - loss: 0.0085 - mean_squared_error: 0.0085 - val_loss: 0.0096 - val_mean_squared_error: 0.0096\n",
      "Epoch 36/50\n",
      "5040/5040 [==============================] - 3s 558us/step - loss: 0.0085 - mean_squared_error: 0.0085 - val_loss: 0.0094 - val_mean_squared_error: 0.0094\n",
      "Epoch 37/50\n",
      "5040/5040 [==============================] - 3s 549us/step - loss: 0.0085 - mean_squared_error: 0.0085 - val_loss: 0.0094 - val_mean_squared_error: 0.0094\n",
      "Epoch 38/50\n",
      "5040/5040 [==============================] - 4s 764us/step - loss: 0.0085 - mean_squared_error: 0.0085 - val_loss: 0.0094 - val_mean_squared_error: 0.0094\n",
      "Epoch 39/50\n",
      "5040/5040 [==============================] - 5s 900us/step - loss: 0.0085 - mean_squared_error: 0.0085 - val_loss: 0.0095 - val_mean_squared_error: 0.0095\n",
      "Epoch 40/50\n",
      "5040/5040 [==============================] - 4s 777us/step - loss: 0.0085 - mean_squared_error: 0.0085 - val_loss: 0.0097 - val_mean_squared_error: 0.0097\n",
      "Epoch 41/50\n",
      "5040/5040 [==============================] - 2s 453us/step - loss: 0.0085 - mean_squared_error: 0.0085 - val_loss: 0.0095 - val_mean_squared_error: 0.0095\n",
      "Epoch 42/50\n",
      "5040/5040 [==============================] - 2s 441us/step - loss: 0.0085 - mean_squared_error: 0.0085 - val_loss: 0.0095 - val_mean_squared_error: 0.0095\n",
      "Epoch 43/50\n",
      "5040/5040 [==============================] - 2s 435us/step - loss: 0.0085 - mean_squared_error: 0.0085 - val_loss: 0.0098 - val_mean_squared_error: 0.0098\n",
      "Epoch 44/50\n",
      "5040/5040 [==============================] - 2s 441us/step - loss: 0.0085 - mean_squared_error: 0.0085 - val_loss: 0.0095 - val_mean_squared_error: 0.0095\n",
      "Epoch 45/50\n"
     ]
    },
    {
     "name": "stdout",
     "output_type": "stream",
     "text": [
      "5040/5040 [==============================] - 2s 444us/step - loss: 0.0085 - mean_squared_error: 0.0085 - val_loss: 0.0094 - val_mean_squared_error: 0.0094\n",
      "Epoch 46/50\n",
      "5040/5040 [==============================] - 2s 484us/step - loss: 0.0085 - mean_squared_error: 0.0085 - val_loss: 0.0094 - val_mean_squared_error: 0.0094\n",
      "Epoch 47/50\n",
      "5040/5040 [==============================] - 2s 441us/step - loss: 0.0085 - mean_squared_error: 0.0085 - val_loss: 0.0095 - val_mean_squared_error: 0.0095\n",
      "Epoch 48/50\n",
      "5040/5040 [==============================] - 2s 435us/step - loss: 0.0085 - mean_squared_error: 0.0085 - val_loss: 0.0095 - val_mean_squared_error: 0.0095\n",
      "Epoch 49/50\n",
      "5040/5040 [==============================] - 2s 430us/step - loss: 0.0085 - mean_squared_error: 0.0085 - val_loss: 0.0095 - val_mean_squared_error: 0.0095\n",
      "Epoch 50/50\n",
      "5040/5040 [==============================] - 2s 471us/step - loss: 0.0085 - mean_squared_error: 0.0085 - val_loss: 0.0094 - val_mean_squared_error: 0.0094\n"
     ]
    }
   ],
   "source": [
    "if __name__ == '__main__':\n",
    "    trd, trl, ted, tel = prep_data('out.csv')\n",
    "    \n",
    "    trd, trl = augment(trd, trl, times=10)\n",
    "    ted, tel = augment(ted, tel, times=10)\n",
    "\n",
    "    np.save('trd.npy', trd)\n",
    "    np.save('trl.npy', trl)\n",
    "    np.save('ted.npy', ted)\n",
    "    np.save('tel.npy', tel)\n",
    "    \n",
    "    epochs = 50\n",
    "    lr = 1e-3\n",
    "    decay = lr / epochs\n",
    "    adam = keras.optimizers.Adam(lr=lr, decay=decay)\n",
    "    adagrad = keras.optimizers.Adagrad(lr=0.01, epsilon=None, decay=0.0) \n",
    "    sgd = optimizers.SGD(lr=0.01, decay=1e-6, momentum=0.9, nesterov=True)\n",
    "    rms = keras.optimizers.RMSprop(lr=0.001, rho=0.9, epsilon=None, decay=0.0)\n",
    "    \n",
    "    model = lstm()\n",
    "\n",
    "    model.summary()\n",
    "    model.compile(loss='mse', optimizer=rms, metrics=['mse'])\n",
    "    history=model.fit(trd, trl, batch_size=7, epochs=epochs, validation_data=[ted, tel], shuffle=True)\n",
    "    "
   ]
  },
  {
   "cell_type": "code",
   "execution_count": 54,
   "metadata": {},
   "outputs": [
    {
     "name": "stdout",
     "output_type": "stream",
     "text": [
      "0.09219544457292887\n"
     ]
    }
   ],
   "source": [
    "print(m.sqrt(0.0085))"
   ]
  },
  {
   "cell_type": "code",
   "execution_count": 5,
   "metadata": {
    "collapsed": true
   },
   "outputs": [],
   "source": [
    "mse = history.history['mean_squared_error']\n",
    "mse_pd = pd.DataFrame(mse)\n",
    "mse_pd.to_csv('mse.csv',index=False)"
   ]
  },
  {
   "cell_type": "code",
   "execution_count": 59,
   "metadata": {},
   "outputs": [
    {
     "data": {
      "text/plain": [
       "{'loss': [0.018943587965178369,\n",
       "  0.0088440961721062191,\n",
       "  0.0087478899869488994,\n",
       "  0.008687523173931469,\n",
       "  0.0086319088515059168,\n",
       "  0.0085828283759635977,\n",
       "  0.008537938612345088,\n",
       "  0.0085376824693311291,\n",
       "  0.0085375160290924318,\n",
       "  0.0085182578703905977,\n",
       "  0.008522904694109457,\n",
       "  0.0085044153738433829,\n",
       "  0.0085275445321005665,\n",
       "  0.0085044940563319769,\n",
       "  0.0084890699577954368,\n",
       "  0.0085221454766724498,\n",
       "  0.0085084255686928775,\n",
       "  0.0085000260108144075,\n",
       "  0.0085119982603727197,\n",
       "  0.0085180936443874904,\n",
       "  0.0084853462665099265,\n",
       "  0.0085219142108043239,\n",
       "  0.0085006967072533569,\n",
       "  0.0084938435690774996,\n",
       "  0.0085034293177563489,\n",
       "  0.0085061590376830677,\n",
       "  0.0084901667665690187,\n",
       "  0.0084700429546501251,\n",
       "  0.0084837214440792903,\n",
       "  0.0084885533279803992,\n",
       "  0.0085031532718049772,\n",
       "  0.0085142772289448967,\n",
       "  0.0084733718915837621,\n",
       "  0.0084991658045409074,\n",
       "  0.0085180073774204675,\n",
       "  0.0085117530948385436,\n",
       "  0.0085100604084598474,\n",
       "  0.0085039185460320573,\n",
       "  0.0085052375355897103,\n",
       "  0.0084929726673484158,\n",
       "  0.008474905781541666,\n",
       "  0.0084847114903014807,\n",
       "  0.008491961029317787,\n",
       "  0.008485542680824033,\n",
       "  0.0085029874868875286,\n",
       "  0.0084973889046927476,\n",
       "  0.0084943656228359844,\n",
       "  0.0085103192929333691,\n",
       "  0.0085027686076096474,\n",
       "  0.0084818412332323435],\n",
       " 'mean_squared_error': [0.018943588100915398,\n",
       "  0.0088440962177830651,\n",
       "  0.0087478899919208042,\n",
       "  0.0086875232093411286,\n",
       "  0.0086319089022355109,\n",
       "  0.0085828283987615973,\n",
       "  0.0085379386011886198,\n",
       "  0.0085376824719181361,\n",
       "  0.0085375160090431258,\n",
       "  0.0085182578371637251,\n",
       "  0.0085229047190902452,\n",
       "  0.0085044154153567642,\n",
       "  0.0085275445215908501,\n",
       "  0.0085044940483284242,\n",
       "  0.0084890699180808337,\n",
       "  0.0085221454355228661,\n",
       "  0.0085084255689354092,\n",
       "  0.0085000260387055777,\n",
       "  0.0085119983123149723,\n",
       "  0.0085180936236105877,\n",
       "  0.0084853462578596203,\n",
       "  0.0085219142246690648,\n",
       "  0.0085006967289195413,\n",
       "  0.0084938435475730035,\n",
       "  0.0085034293356228679,\n",
       "  0.0085061590547411466,\n",
       "  0.008490166695022101,\n",
       "  0.008470042964270558,\n",
       "  0.0084837214258893963,\n",
       "  0.0084885532864265971,\n",
       "  0.0085031532805361267,\n",
       "  0.0085142771615210229,\n",
       "  0.0084733718623586658,\n",
       "  0.0084991658322299667,\n",
       "  0.0085180073981165252,\n",
       "  0.0085117531107648074,\n",
       "  0.0085100604319045987,\n",
       "  0.0085039185878283911,\n",
       "  0.0085052375396319092,\n",
       "  0.0084929726772113804,\n",
       "  0.0084749057867965251,\n",
       "  0.0084847114763154721,\n",
       "  0.00849196105260085,\n",
       "  0.0084855426441612907,\n",
       "  0.0085029875033392783,\n",
       "  0.0084973888903429416,\n",
       "  0.0084943656009272665,\n",
       "  0.0085103193257560234,\n",
       "  0.0085027685971807744,\n",
       "  0.0084818412119703774],\n",
       " 'val_loss': [0.010270728383248185,\n",
       "  0.0098652560977090624,\n",
       "  0.0097339668475877258,\n",
       "  0.0096405687187216243,\n",
       "  0.0096605974226360563,\n",
       "  0.0094259798803468589,\n",
       "  0.0094327344524811445,\n",
       "  0.009549303168189362,\n",
       "  0.009571771517884917,\n",
       "  0.0093973409938495032,\n",
       "  0.0094343468619867057,\n",
       "  0.0094761116354842665,\n",
       "  0.0094168760813830889,\n",
       "  0.0094384724730844031,\n",
       "  0.0095509541953928412,\n",
       "  0.0095553970620126365,\n",
       "  0.0093353852020911284,\n",
       "  0.0094037041845156637,\n",
       "  0.0094352302174927904,\n",
       "  0.009488406779466458,\n",
       "  0.0093835127921047395,\n",
       "  0.0094400107470268262,\n",
       "  0.0094741587203941886,\n",
       "  0.0094693227945702625,\n",
       "  0.0096700765087323823,\n",
       "  0.0093835030134767298,\n",
       "  0.0094640766897697171,\n",
       "  0.0093601503175097609,\n",
       "  0.0094727889463503741,\n",
       "  0.0096315237240611161,\n",
       "  0.0094522969836718408,\n",
       "  0.0097320647458007444,\n",
       "  0.0095229122471236684,\n",
       "  0.0095729282479396719,\n",
       "  0.0095997927516582419,\n",
       "  0.0093956846716042493,\n",
       "  0.0094125133746005302,\n",
       "  0.00935752376020264,\n",
       "  0.0094767147462705911,\n",
       "  0.0096668553063354919,\n",
       "  0.0094738510762624635,\n",
       "  0.0094914765563215049,\n",
       "  0.0097758437840922401,\n",
       "  0.0094931419365893825,\n",
       "  0.0094311484173569618,\n",
       "  0.009354499631779617,\n",
       "  0.0094761245008176051,\n",
       "  0.0095165605282100385,\n",
       "  0.0094823123953290626,\n",
       "  0.0093748516670496655],\n",
       " 'val_mean_squared_error': [0.010270728477987519,\n",
       "  0.0098652560234710109,\n",
       "  0.0097339667223161081,\n",
       "  0.0096405686042882743,\n",
       "  0.0096605974874226369,\n",
       "  0.009425979848891439,\n",
       "  0.009432734342346271,\n",
       "  0.0095493032568245324,\n",
       "  0.0095717713145655574,\n",
       "  0.0093973407733763444,\n",
       "  0.0094343468090737591,\n",
       "  0.0094761112993350244,\n",
       "  0.0094168761244305642,\n",
       "  0.0094384725063937375,\n",
       "  0.0095509541228100715,\n",
       "  0.0095553970446347596,\n",
       "  0.0093353850221290485,\n",
       "  0.0094037041304312879,\n",
       "  0.009435230253689952,\n",
       "  0.009488406854111963,\n",
       "  0.0093835128365855787,\n",
       "  0.0094400106007458823,\n",
       "  0.0094741589230790853,\n",
       "  0.0094693229921649028,\n",
       "  0.0096700765799985679,\n",
       "  0.0093835031257302037,\n",
       "  0.0094640768295237657,\n",
       "  0.0093601502707506366,\n",
       "  0.0094727887747321805,\n",
       "  0.0096315236957023442,\n",
       "  0.0094522970367223024,\n",
       "  0.0097320648979031827,\n",
       "  0.0095229122730886503,\n",
       "  0.0095729281460151475,\n",
       "  0.0095997925475239752,\n",
       "  0.0093956846251137902,\n",
       "  0.0094125135856564148,\n",
       "  0.009357523679181759,\n",
       "  0.0094767149201870782,\n",
       "  0.0096668552930779701,\n",
       "  0.0094738511753453165,\n",
       "  0.0094914765319554593,\n",
       "  0.0097758438301943449,\n",
       "  0.0094931417633400995,\n",
       "  0.009431148051119817,\n",
       "  0.0093544996764569083,\n",
       "  0.0094761245201111701,\n",
       "  0.0095165603964904675,\n",
       "  0.0094823125356662784,\n",
       "  0.009374851774701461]}"
      ]
     },
     "execution_count": 59,
     "metadata": {},
     "output_type": "execute_result"
    }
   ],
   "source": [
    "history.history"
   ]
  },
  {
   "cell_type": "code",
   "execution_count": 55,
   "metadata": {
    "collapsed": true
   },
   "outputs": [],
   "source": [
    "loss = history.history['loss']\n",
    "lossdf = pd.DataFrame(loss)\n",
    "lossdf.to_csv('loss.csv', index = False)"
   ]
  },
  {
   "cell_type": "code",
   "execution_count": 56,
   "metadata": {
    "collapsed": true
   },
   "outputs": [],
   "source": [
    "val_loss = history.history['val_loss']\n",
    "val_lossdf = pd.DataFrame(val_loss)\n",
    "val_lossdf.to_csv('valloss.csv', index=False)"
   ]
  },
  {
   "cell_type": "code",
   "execution_count": 60,
   "metadata": {},
   "outputs": [
    {
     "data": {
      "image/png": "[encoded data removed]",
      "text/plain": [
       "<Figure size 432x288 with 1 Axes>"
      ]
     },
     "metadata": {},
     "output_type": "display_data"
    }
   ],
   "source": [
    "import matplotlib.pyplot as plt\n",
    "plt.plot(history.history['mean_squared_error'])\n",
    "plt.plot(history.history['val_mean_squared_error'])\n",
    "plt.title('model loss')\n",
    "plt.ylabel('loss')\n",
    "plt.xlabel('epoch')\n",
    "plt.legend(['loss', 'val_loss'], loc='upper left')\n",
    "plt.grid()\n",
    "plt.show()"
   ]
  },
  {
   "cell_type": "code",
   "execution_count": 11,
   "metadata": {},
   "outputs": [
    {
     "data": {
      "image/png": "[encoded data removed]",
      "text/plain": [
       "<Figure size 432x288 with 1 Axes>"
      ]
     },
     "metadata": {},
     "output_type": "display_data"
    }
   ],
   "source": [
    "plt.plot(history.history['loss'])\n",
    "plt.title('model loss')\n",
    "plt.ylabel('loss')\n",
    "plt.xlabel('epoch')\n",
    "plt.legend(['train', 'test'], loc='upper left')\n",
    "plt.grid()\n",
    "plt.show()"
   ]
  },
  {
   "cell_type": "code",
   "execution_count": 36,
   "metadata": {
    "collapsed": true
   },
   "outputs": [],
   "source": [
    "y=model.predict_on_batch(ted)"
   ]
  },
  {
   "cell_type": "code",
   "execution_count": 12,
   "metadata": {},
   "outputs": [
    {
     "ename": "NameError",
     "evalue": "name 'y' is not defined",
     "output_type": "error",
     "traceback": [
      "\u001b[1;31m---------------------------------------------------------------------------\u001b[0m",
      "\u001b[1;31mNameError\u001b[0m                                 Traceback (most recent call last)",
      "\u001b[1;32m<ipython-input-12-e60e5f312ee4>\u001b[0m in \u001b[0;36m<module>\u001b[1;34m()\u001b[0m\n\u001b[1;32m----> 1\u001b[1;33m \u001b[0my\u001b[0m\u001b[1;33m.\u001b[0m\u001b[0mshape\u001b[0m\u001b[1;33m\u001b[0m\u001b[0m\n\u001b[0m\u001b[0;32m      2\u001b[0m \u001b[0mted\u001b[0m\u001b[1;33m.\u001b[0m\u001b[0mshape\u001b[0m\u001b[1;33m\u001b[0m\u001b[0m\n\u001b[0;32m      3\u001b[0m \u001b[0mprediction\u001b[0m \u001b[1;33m=\u001b[0m \u001b[1;33m[\u001b[0m\u001b[1;33m]\u001b[0m\u001b[1;33m\u001b[0m\u001b[0m\n\u001b[0;32m      4\u001b[0m \u001b[0mground_truth\u001b[0m \u001b[1;33m=\u001b[0m \u001b[1;33m[\u001b[0m\u001b[1;33m]\u001b[0m\u001b[1;33m\u001b[0m\u001b[0m\n\u001b[0;32m      5\u001b[0m \u001b[1;32mfor\u001b[0m \u001b[0mi\u001b[0m \u001b[1;32min\u001b[0m \u001b[0mrange\u001b[0m \u001b[1;33m(\u001b[0m\u001b[1;36m0\u001b[0m\u001b[1;33m,\u001b[0m\u001b[1;36m20\u001b[0m\u001b[1;33m)\u001b[0m\u001b[1;33m:\u001b[0m\u001b[1;33m\u001b[0m\u001b[0m\n",
      "\u001b[1;31mNameError\u001b[0m: name 'y' is not defined"
     ]
    }
   ],
   "source": [
    "y.shape\n",
    "ted.shape\n",
    "prediction = []\n",
    "ground_truth = []\n",
    "for i in range (0,20):\n",
    "    for j in range (0,13):\n",
    "        prediction.append(y[i][j][0])\n",
    "        ground_truth.append(ted[i][j][0])"
   ]
  },
  {
   "cell_type": "code",
   "execution_count": 64,
   "metadata": {},
   "outputs": [
    {
     "data": {
      "text/plain": [
       "0.80438775"
      ]
     },
     "execution_count": 64,
     "metadata": {},
     "output_type": "execute_result"
    }
   ],
   "source": [
    "y[0][0][0]"
   ]
  },
  {
   "cell_type": "code",
   "execution_count": 65,
   "metadata": {},
   "outputs": [
    {
     "data": {
      "text/plain": [
       "[<matplotlib.lines.Line2D at 0x1bac55f9cf8>]"
      ]
     },
     "execution_count": 65,
     "metadata": {},
     "output_type": "execute_result"
    },
    {
     "data": {
      "image/png": "[encoded data removed]",
      "text/plain": [
       "<Figure size 432x288 with 1 Axes>"
      ]
     },
     "metadata": {},
     "output_type": "display_data"
    }
   ],
   "source": [
    "%matplotlib inline\n",
    "import matplotlib.pyplot as plt\n",
    "plt.plot(prediction)"
   ]
  },
  {
   "cell_type": "code",
   "execution_count": 73,
   "metadata": {
    "collapsed": true
   },
   "outputs": [],
   "source": [
    "prediction = pd.DataFrame(prediction)"
   ]
  },
  {
   "cell_type": "code",
   "execution_count": 75,
   "metadata": {
    "collapsed": true
   },
   "outputs": [],
   "source": [
    "prediction.to_csv('prediction.csv' , index=False)"
   ]
  },
  {
   "cell_type": "code",
   "execution_count": 76,
   "metadata": {
    "collapsed": true
   },
   "outputs": [],
   "source": [
    "ground_truth_df = pd.DataFrame(ground_truth)"
   ]
  },
  {
   "cell_type": "code",
   "execution_count": 78,
   "metadata": {
    "collapsed": true
   },
   "outputs": [],
   "source": [
    "ground_truth_df.to_csv('ground_truth.csv', index=False)"
   ]
  }
 ],
 "metadata": {
  "kernelspec": {
   "display_name": "Python 3",
   "language": "python",
   "name": "python3"
  },
  "language_info": {
   "codemirror_mode": {
    "name": "ipython",
    "version": 3
   },
   "file_extension": ".py",
   "mimetype": "text/x-python",
   "name": "python",
   "nbconvert_exporter": "python",
   "pygments_lexer": "ipython3",
   "version": "3.6.3"
  }
 },
 "nbformat": 4,
 "nbformat_minor": 2
}
