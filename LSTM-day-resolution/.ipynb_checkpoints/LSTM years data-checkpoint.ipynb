{
 "cells": [
  {
   "cell_type": "code",
   "execution_count": 1,
   "metadata": {},
   "outputs": [
    {
     "name": "stderr",
     "output_type": "stream",
     "text": [
      "Using TensorFlow backend.\n"
     ]
    }
   ],
   "source": [
    "import numpy as np\n",
    "import random\n",
    "import pandas as pd\n",
    "from keras.models import Model\n",
    "from keras.layers import Input,Dense,LSTM,Conv1D,Activation\n",
    "from keras import optimizers\n",
    "import keras"
   ]
  },
  {
   "cell_type": "code",
   "execution_count": 5,
   "metadata": {
    "collapsed": true
   },
   "outputs": [],
   "source": [
    "def input_vectors(time_series):\n",
    "    splitted_data = []\n",
    "    for i in range (0,time_series.shape[0] // 14 - 1):\n",
    "        chunk = time_series[i*14:(i+1)*14]\n",
    "        splitted_data.append(chunk.reshape(1,14,1))\n",
    "    return np.vstack(splitted_data)\n",
    "def prep_data(file_name):\n",
    "    days_data = []\n",
    "    with open(file_name) as f:\n",
    "        for i, line in enumerate(f):\n",
    "            if i:\n",
    "                sequence =  float(line.rstrip().split(',')[-1])\n",
    "                days_data.append(sequence)\n",
    "    days_data = np.array(days_data[::-1])\n",
    "    days_data -= days_data.min()\n",
    "    days_data /= days_data.max()\n",
    "    number_of_days = days_data.shape[0]\n",
    "    n = number_of_days\n",
    "    training = days_data[:-int(0.2*n)]\n",
    "    testing = days_data[-int(0.2*n):]\n",
    "    training_d = training[:-1]\n",
    "    training_l = training[1:]\n",
    "    testing_d = testing[:-1]\n",
    "    testing_l = testing[1:]\n",
    "    return input_vectors(training_d),input_vectors(training_l),input_vectors(testing_d), input_vectors(testing_l)\n",
    "\n",
    "def reshaper(v):\n",
    "    l = v.shape[0]\n",
    "    return v.reshape(l, 1)\n",
    "\n",
    "def subsample(l, y, n=1):\n",
    "    start = random.randint(0, l.shape[0]- (n+1))\n",
    "    subsample = l[start:start+n]\n",
    "    suby = y[start: start+n]\n",
    "    init = np.zeros((len(l) - n, 1))\n",
    "    return np.concatenate([init, subsample], axis=0), np.concatenate([init, suby], axis=0)"
   ]
  },
  {
   "cell_type": "code",
   "execution_count": 3,
   "metadata": {
    "collapsed": true
   },
   "outputs": [],
   "source": [
    "def lstm():\n",
    "    inp = Input(shape=(14, 1))\n",
    "    x = LSTM(32, return_sequences=True)(inp)\n",
    "    x = Dense(1, activation='relu')(x)\n",
    "    return Model(inputs=inp, outputs=x)\n",
    "def augment(xs, ys, times=5):\n",
    "    d, ts, f = xs.shape\n",
    "    aug_xs = []\n",
    "    aug_ys = []\n",
    "    for i in range(d):\n",
    "        for j in range(times-1):\n",
    "            random.seed(12)\n",
    "            q = random.randint(0, ts - 1)\n",
    "            ax, ay = subsample(xs[i], ys[i], n=q)\n",
    "            aug_xs.append(ax.reshape(1, ts, f))\n",
    "            aug_ys.append(ay.reshape(1, ts, f))\n",
    "    aug_xs = np.vstack(aug_xs)\n",
    "    aug_ys = np.vstack(aug_ys)\n",
    "    xs = np.concatenate([xs, aug_xs], axis=0)\n",
    "    ys = np.concatenate([ys, aug_ys], axis=0)\n",
    "    return xs, ys"
   ]
  },
  {
   "cell_type": "code",
   "execution_count": 4,
   "metadata": {},
   "outputs": [
    {
     "ename": "ValueError",
     "evalue": "too many values to unpack (expected 4)",
     "output_type": "error",
     "traceback": [
      "\u001b[1;31m---------------------------------------------------------------------------\u001b[0m",
      "\u001b[1;31mValueError\u001b[0m                                Traceback (most recent call last)",
      "\u001b[1;32m<ipython-input-4-5c2557622d4d>\u001b[0m in \u001b[0;36m<module>\u001b[1;34m()\u001b[0m\n\u001b[0;32m      1\u001b[0m \u001b[1;32mif\u001b[0m \u001b[0m__name__\u001b[0m \u001b[1;33m==\u001b[0m \u001b[1;34m'__main__'\u001b[0m\u001b[1;33m:\u001b[0m\u001b[1;33m\u001b[0m\u001b[0m\n\u001b[1;32m----> 2\u001b[1;33m     \u001b[0mtrd\u001b[0m\u001b[1;33m,\u001b[0m \u001b[0mtrl\u001b[0m\u001b[1;33m,\u001b[0m \u001b[0mted\u001b[0m\u001b[1;33m,\u001b[0m \u001b[0mtel\u001b[0m \u001b[1;33m=\u001b[0m \u001b[0mprep_data\u001b[0m\u001b[1;33m(\u001b[0m\u001b[1;34m'out.csv'\u001b[0m\u001b[1;33m)\u001b[0m\u001b[1;33m\u001b[0m\u001b[0m\n\u001b[0m\u001b[0;32m      3\u001b[0m \u001b[1;33m\u001b[0m\u001b[0m\n\u001b[0;32m      4\u001b[0m     \u001b[0mtrd\u001b[0m\u001b[1;33m,\u001b[0m \u001b[0mtrl\u001b[0m \u001b[1;33m=\u001b[0m \u001b[0maugment\u001b[0m\u001b[1;33m(\u001b[0m\u001b[0mtrd\u001b[0m\u001b[1;33m,\u001b[0m \u001b[0mtrl\u001b[0m\u001b[1;33m,\u001b[0m \u001b[0mtimes\u001b[0m\u001b[1;33m=\u001b[0m\u001b[1;36m10\u001b[0m\u001b[1;33m)\u001b[0m\u001b[1;33m\u001b[0m\u001b[0m\n\u001b[0;32m      5\u001b[0m     \u001b[0mted\u001b[0m\u001b[1;33m,\u001b[0m \u001b[0mtel\u001b[0m \u001b[1;33m=\u001b[0m \u001b[0maugment\u001b[0m\u001b[1;33m(\u001b[0m\u001b[0mted\u001b[0m\u001b[1;33m,\u001b[0m \u001b[0mtel\u001b[0m\u001b[1;33m,\u001b[0m \u001b[0mtimes\u001b[0m\u001b[1;33m=\u001b[0m\u001b[1;36m10\u001b[0m\u001b[1;33m)\u001b[0m\u001b[1;33m\u001b[0m\u001b[0m\n",
      "\u001b[1;31mValueError\u001b[0m: too many values to unpack (expected 4)"
     ]
    }
   ],
   "source": [
    "if __name__ == '__main__':\n",
    "    trd, trl, ted, tel = prep_data('out.csv')\n",
    "    \n",
    "    trd, trl = augment(trd, trl, times=10)\n",
    "    ted, tel = augment(ted, tel, times=10)\n",
    "\n",
    "    np.save('trd.npy', trd)\n",
    "    np.save('trl.npy', trl)\n",
    "    np.save('ted.npy', ted)\n",
    "    np.save('tel.npy', tel)\n",
    "    \n",
    "    epochs = 50\n",
    "    lr = 1e-3\n",
    "    decay = lr / epochs\n",
    "    adam = keras.optimizers.Adam(lr=lr, decay=decay)\n",
    "\n",
    "    model = lstm()\n",
    "\n",
    "    model.summary()\n",
    "    model.compile(loss='mse', optimizer=adam)\n",
    "    model.fit(trd, trl, batch_size=14, epochs=epochs, validation_data=[ted, tel], shuffle=True)\n",
    "    "
   ]
  },
  {
   "cell_type": "code",
   "execution_count": 26,
   "metadata": {},
   "outputs": [
    {
     "ename": "NameError",
     "evalue": "name 'n' is not defined",
     "output_type": "error",
     "traceback": [
      "\u001b[1;31m---------------------------------------------------------------------------\u001b[0m",
      "\u001b[1;31mNameError\u001b[0m                                 Traceback (most recent call last)",
      "\u001b[1;32m<ipython-input-26-fe13119fb084>\u001b[0m in \u001b[0;36m<module>\u001b[1;34m()\u001b[0m\n\u001b[1;32m----> 1\u001b[1;33m \u001b[0mn\u001b[0m\u001b[1;33m\u001b[0m\u001b[0m\n\u001b[0m",
      "\u001b[1;31mNameError\u001b[0m: name 'n' is not defined"
     ]
    }
   ],
   "source": [
    "n"
   ]
  }
 ],
 "metadata": {
  "kernelspec": {
   "display_name": "Python 3",
   "language": "python",
   "name": "python3"
  },
  "language_info": {
   "codemirror_mode": {
    "name": "ipython",
    "version": 3
   },
   "file_extension": ".py",
   "mimetype": "text/x-python",
   "name": "python",
   "nbconvert_exporter": "python",
   "pygments_lexer": "ipython3",
   "version": "3.6.3"
  }
 },
 "nbformat": 4,
 "nbformat_minor": 2
}
