{
 "cells": [
  {
   "cell_type": "code",
   "execution_count": 101,
   "metadata": {
    "collapsed": true
   },
   "outputs": [],
   "source": [
    "import numpy as np\n",
    "import random\n",
    "import pandas as pd\n",
    "from keras.models import Model\n",
    "from keras.layers import Input,Dense,LSTM,Conv1D,Activation\n",
    "from keras import optimizers\n",
    "import keras"
   ]
  },
  {
   "cell_type": "code",
   "execution_count": 105,
   "metadata": {
    "collapsed": true
   },
   "outputs": [],
   "source": [
    "def input_vectors(time_series):\n",
    "    splitted_data = []\n",
    "    for i in range (0,time_series.shape[0] // 14 - 1):\n",
    "        chunk = time_series[i*14:(i+1)*14]\n",
    "        splitted_data.append(chunk.reshape(1,14,1))\n",
    "    return np.vstack(splitted_data)\n",
    "def prep_data(file_name):\n",
    "    days_data = []\n",
    "    with open(file_name) as f:\n",
    "        for i, line in enumerate(f):\n",
    "            if i:\n",
    "                sequence =  float(line.rstrip().split(',')[-1])\n",
    "                days_data.append(sequence)\n",
    "    days_data = np.array(days_data[::-1])\n",
    "    print(days_data.max())\n",
    "    days_data -= days_data.min()\n",
    "    days_data /= days_data.max()\n",
    "    number_of_days = days_data.shape[0]\n",
    "    n = number_of_days\n",
    "    training = days_data[:-int(0.2*n)]\n",
    "    testing = days_data[-int(0.2*n):]\n",
    "    training_d = training[:-1]\n",
    "    training_l = training[1:]\n",
    "    testing_d = testing[:-1]\n",
    "    testing_l = testing[1:]\n",
    "    print(len(days_data))\n",
    "    return input_vectors(training_d),input_vectors(training_l),input_vectors(testing_d), input_vectors(testing_l)\n",
    "\n",
    "def reshaper(v):\n",
    "    l = v.shape[0]\n",
    "    return v.reshape(l, 1)\n",
    "\n",
    "def subsample(l, y, n=1):\n",
    "    start = random.randint(0, l.shape[0]- (n+1))\n",
    "    subsample = l[start:start+n]\n",
    "    suby = y[start: start+n]\n",
    "    init = np.zeros((len(l) - n, 1))\n",
    "    return np.concatenate([init, subsample], axis=0), np.concatenate([init, suby], axis=0)"
   ]
  },
  {
   "cell_type": "code",
   "execution_count": 106,
   "metadata": {
    "collapsed": true
   },
   "outputs": [],
   "source": [
    "def lstm():\n",
    "    inp = Input(shape=(14, 1))\n",
    "    x = LSTM(32, return_sequences=True)(inp)\n",
    "    x = Dense(1, activation='relu')(x)\n",
    "    return Model(inputs=inp, outputs=x)\n",
    "def augment(xs, ys, times=5):\n",
    "    d, ts, f = xs.shape\n",
    "    aug_xs = []\n",
    "    aug_ys = []\n",
    "    for i in range(d):\n",
    "        for j in range(times-1):\n",
    "            random.seed(12)\n",
    "            q = random.randint(0, ts - 1)\n",
    "            ax, ay = subsample(xs[i], ys[i], n=q)\n",
    "            aug_xs.append(ax.reshape(1, ts, f))\n",
    "            aug_ys.append(ay.reshape(1, ts, f))\n",
    "    aug_xs = np.vstack(aug_xs)\n",
    "    aug_ys = np.vstack(aug_ys)\n",
    "    xs = np.concatenate([xs, aug_xs], axis=0)\n",
    "    ys = np.concatenate([ys, aug_ys], axis=0)\n",
    "    return xs, ys"
   ]
  },
  {
   "cell_type": "code",
   "execution_count": 107,
   "metadata": {},
   "outputs": [
    {
     "name": "stdout",
     "output_type": "stream",
     "text": [
      "51800.0\n",
      "30353\n",
      "_________________________________________________________________\n",
      "Layer (type)                 Output Shape              Param #   \n",
      "=================================================================\n",
      "input_19 (InputLayer)        (None, 14, 1)             0         \n",
      "_________________________________________________________________\n",
      "lstm_19 (LSTM)               (None, 14, 32)            4352      \n",
      "_________________________________________________________________\n",
      "dense_19 (Dense)             (None, 14, 1)             33        \n",
      "=================================================================\n",
      "Total params: 4,385\n",
      "Trainable params: 4,385\n",
      "Non-trainable params: 0\n",
      "_________________________________________________________________\n",
      "Train on 17330 samples, validate on 4320 samples\n",
      "Epoch 1/10\n",
      "17330/17330 [==============================] - 14s 804us/step - loss: 0.0084 - mean_squared_error: 0.0084 - val_loss: 0.0034 - val_mean_squared_error: 0.0034\n",
      "Epoch 2/10\n",
      "17330/17330 [==============================] - 11s 632us/step - loss: 0.0046 - mean_squared_error: 0.0046 - val_loss: 0.0025 - val_mean_squared_error: 0.0025\n",
      "Epoch 3/10\n",
      "17330/17330 [==============================] - 11s 619us/step - loss: 0.0036 - mean_squared_error: 0.0036 - val_loss: 0.0021 - val_mean_squared_error: 0.0021\n",
      "Epoch 4/10\n",
      "17330/17330 [==============================] - 11s 633us/step - loss: 0.0031 - mean_squared_error: 0.0031 - val_loss: 0.0019 - val_mean_squared_error: 0.0019\n",
      "Epoch 5/10\n",
      "17330/17330 [==============================] - 11s 633us/step - loss: 0.0029 - mean_squared_error: 0.0029 - val_loss: 0.0018 - val_mean_squared_error: 0.0018\n",
      "Epoch 6/10\n",
      "17330/17330 [==============================] - 11s 633us/step - loss: 0.0028 - mean_squared_error: 0.0028 - val_loss: 0.0018 - val_mean_squared_error: 0.0018\n",
      "Epoch 7/10\n",
      "17330/17330 [==============================] - 11s 641us/step - loss: 0.0027 - mean_squared_error: 0.0027 - val_loss: 0.0017 - val_mean_squared_error: 0.0017\n",
      "Epoch 8/10\n",
      "17330/17330 [==============================] - 11s 634us/step - loss: 0.0027 - mean_squared_error: 0.0027 - val_loss: 0.0017 - val_mean_squared_error: 0.0017\n",
      "Epoch 9/10\n",
      "17330/17330 [==============================] - 12s 709us/step - loss: 0.0026 - mean_squared_error: 0.0026 - val_loss: 0.0016 - val_mean_squared_error: 0.0016\n",
      "Epoch 10/10\n",
      "17330/17330 [==============================] - 15s 889us/step - loss: 0.0026 - mean_squared_error: 0.0026 - val_loss: 0.0016 - val_mean_squared_error: 0.0016\n"
     ]
    }
   ],
   "source": [
    "if __name__ == '__main__':\n",
    "    trd, trl, ted, tel = prep_data('minutedata.csv')\n",
    "    \n",
    "    trd, trl = augment(trd, trl, times=10)\n",
    "    ted, tel = augment(ted, tel, times=10)\n",
    "\n",
    "    np.save('trd.npy', trd)\n",
    "    np.save('trl.npy', trl)\n",
    "    np.save('ted.npy', ted)\n",
    "    np.save('tel.npy', tel)\n",
    "    \n",
    "    epochs = 50\n",
    "    lr = 1e-3\n",
    "    decay = lr / epochs\n",
    "    adam = keras.optimizers.Adam(lr=lr, decay=decay)\n",
    "    adagrad = keras.optimizers.Adagrad(lr=0.01, epsilon=None, decay=0.0) \n",
    "    sgd = optimizers.SGD(lr=0.01, decay=1e-6, momentum=0.9, nesterov=True)\n",
    "    rms = keras.optimizers.RMSprop(lr=0.001, rho=0.9, epsilon=None, decay=0.0)\n",
    "    model = lstm()\n",
    "\n",
    "    model.summary()\n",
    "    model.compile(loss='mse', optimizer=sgd, metrics=['mse'])\n",
    "    history=model.fit(trd, trl, batch_size=14, epochs=epochs, validation_data=[ted, tel], shuffle=True)"
   ]
  },
  {
   "cell_type": "code",
   "execution_count": 53,
   "metadata": {
    "collapsed": true
   },
   "outputs": [],
   "source": [
    "loss = history.history['loss']\n",
    "loss_df = pd.DataFrame(loss)\n",
    "loss_df.to_csv('lossadagrad.csv', index=False)"
   ]
  },
  {
   "cell_type": "code",
   "execution_count": 17,
   "metadata": {},
   "outputs": [
    {
     "data": {
      "text/plain": [
       "{'loss': [0.0049758758149298123,\n",
       "  0.0021666222811048998,\n",
       "  0.0021294046726110004,\n",
       "  0.0021074350146374041,\n",
       "  0.0020895182331175633,\n",
       "  0.0020736170488477074,\n",
       "  0.0020629398829893784,\n",
       "  0.0020544697971548198,\n",
       "  0.0020517226924336792,\n",
       "  0.0020479749743042494,\n",
       "  0.002045052046330187,\n",
       "  0.0020465326866413351,\n",
       "  0.0020425802204755475,\n",
       "  0.002040086809410699,\n",
       "  0.0020378281022465092,\n",
       "  0.0020355404601737361,\n",
       "  0.0020345939046472008,\n",
       "  0.0020306205408005223,\n",
       "  0.0020307053443098183,\n",
       "  0.0020254126523648595,\n",
       "  0.0020237815908005444,\n",
       "  0.0020219440787817636,\n",
       "  0.002019335565279108,\n",
       "  0.0020161843662938948,\n",
       "  0.0020149402638580073,\n",
       "  0.0020120247181633789,\n",
       "  0.0020067576543347878,\n",
       "  0.002006754382859779,\n",
       "  0.002001642852833102,\n",
       "  0.0019984543269558042,\n",
       "  0.0019937737855225241,\n",
       "  0.0019899508079335273,\n",
       "  0.0019872758396455832,\n",
       "  0.0019827952367044376,\n",
       "  0.0019784075152057832,\n",
       "  0.0019771958350280126,\n",
       "  0.0019743775891667382,\n",
       "  0.0019706198921275665,\n",
       "  0.0019708997447917018,\n",
       "  0.0019666941676681308,\n",
       "  0.0019654654394528578,\n",
       "  0.0019622390776304222,\n",
       "  0.0019607473124565989,\n",
       "  0.0019600250966782073,\n",
       "  0.0019579373174340646,\n",
       "  0.0019558594468944922,\n",
       "  0.0019538619067600831,\n",
       "  0.0019513429784043907,\n",
       "  0.0019505534900081439,\n",
       "  0.0019488282182762468],\n",
       " 'mean_squared_error': [0.0049758758115559173,\n",
       "  0.0021666222777611292,\n",
       "  0.0021294046691111516,\n",
       "  0.0021074350127432621,\n",
       "  0.002089518227914183,\n",
       "  0.0020736170591765862,\n",
       "  0.002062939869003418,\n",
       "  0.0020544698088576494,\n",
       "  0.0020517226985516976,\n",
       "  0.0020479749802257792,\n",
       "  0.0020450520407527227,\n",
       "  0.0020465326836267249,\n",
       "  0.0020425802148136937,\n",
       "  0.0020400867999936238,\n",
       "  0.0020378281092399094,\n",
       "  0.0020355404570857574,\n",
       "  0.0020345939112096536,\n",
       "  0.0020306205478013749,\n",
       "  0.0020307053492654883,\n",
       "  0.0020254126493351871,\n",
       "  0.0020237815984498514,\n",
       "  0.0020219440758362968,\n",
       "  0.0020193355660373525,\n",
       "  0.002016184363260916,\n",
       "  0.0020149402576004945,\n",
       "  0.0020120247191185319,\n",
       "  0.0020067576517051782,\n",
       "  0.0020067543847883487,\n",
       "  0.0020016428438290519,\n",
       "  0.0019984543367409804,\n",
       "  0.001993773771349521,\n",
       "  0.0019899508116227272,\n",
       "  0.0019872758284938032,\n",
       "  0.0019827952314946545,\n",
       "  0.0019784075168828119,\n",
       "  0.0019771958321618184,\n",
       "  0.0019743775896984752,\n",
       "  0.0019706198970821875,\n",
       "  0.0019708997483250334,\n",
       "  0.0019666941632248843,\n",
       "  0.0019654654334897632,\n",
       "  0.0019622390680374309,\n",
       "  0.0019607473073201842,\n",
       "  0.0019600251023562778,\n",
       "  0.0019579373199668732,\n",
       "  0.00195585945287585,\n",
       "  0.0019538619042991472,\n",
       "  0.0019513429798069964,\n",
       "  0.0019505534825499725,\n",
       "  0.0019488282199720108],\n",
       " 'val_loss': [0.0013831043838136053,\n",
       "  0.0013254360429876834,\n",
       "  0.0013082801874083195,\n",
       "  0.0013225046325084702,\n",
       "  0.0013333387097832995,\n",
       "  0.0013735601812225507,\n",
       "  0.0013012620710434455,\n",
       "  0.0013162843274241458,\n",
       "  0.0013191737398069111,\n",
       "  0.0013260823338878778,\n",
       "  0.0013253637430370579,\n",
       "  0.0012968234162955609,\n",
       "  0.0013036691441344209,\n",
       "  0.0013202479851561163,\n",
       "  0.0013495023147630423,\n",
       "  0.0013487977188721555,\n",
       "  0.0013306675823710628,\n",
       "  0.0013433210426590583,\n",
       "  0.0013334318735777363,\n",
       "  0.001319491574707696,\n",
       "  0.0013443721894015616,\n",
       "  0.0013015405053728982,\n",
       "  0.001357279417660466,\n",
       "  0.0013527097999186831,\n",
       "  0.0013829223445861105,\n",
       "  0.0013235415523705056,\n",
       "  0.0013362306761604023,\n",
       "  0.0013381634883471616,\n",
       "  0.0013356602506320165,\n",
       "  0.0013512036743755908,\n",
       "  0.0013365790096105245,\n",
       "  0.0013345199525655123,\n",
       "  0.0013332181832588746,\n",
       "  0.0013340731680707549,\n",
       "  0.0013595132298865234,\n",
       "  0.001356492941216035,\n",
       "  0.0013507405703842381,\n",
       "  0.0013642296733994723,\n",
       "  0.0013576012668128419,\n",
       "  0.0013651486777726412,\n",
       "  0.0013538993142966547,\n",
       "  0.0013697909060915584,\n",
       "  0.0013440244752823262,\n",
       "  0.0013432914831725635,\n",
       "  0.0013722788135061956,\n",
       "  0.0013374243981464698,\n",
       "  0.0013641177154887587,\n",
       "  0.0013387487511083496,\n",
       "  0.0013756520326030288,\n",
       "  0.0013629858376952484],\n",
       " 'val_mean_squared_error': [0.0013831044161737214,\n",
       "  0.0013254360478697435,\n",
       "  0.0013082802034010176,\n",
       "  0.001322504623090938,\n",
       "  0.0013333387294610307,\n",
       "  0.0013735601823606294,\n",
       "  0.0013012620573046145,\n",
       "  0.0013162843322696389,\n",
       "  0.0013191737166566393,\n",
       "  0.0013260822878351946,\n",
       "  0.0013253637276584393,\n",
       "  0.0012968234206053055,\n",
       "  0.0013036691610316137,\n",
       "  0.0013202479936763032,\n",
       "  0.0013495023241447328,\n",
       "  0.0013487977198812578,\n",
       "  0.0013306675663453894,\n",
       "  0.001343321067392472,\n",
       "  0.0013334318725462023,\n",
       "  0.001319491578235488,\n",
       "  0.0013443721867642967,\n",
       "  0.0013015404805310046,\n",
       "  0.0013572793777461894,\n",
       "  0.0013527098148952408,\n",
       "  0.0013829223342900696,\n",
       "  0.0013235415167222851,\n",
       "  0.0013362306587542119,\n",
       "  0.0013381634765506913,\n",
       "  0.0013356602730037097,\n",
       "  0.0013512036607182751,\n",
       "  0.001336578976103605,\n",
       "  0.0013345199183746959,\n",
       "  0.0013332182089395206,\n",
       "  0.0013340731401833073,\n",
       "  0.0013595132279763079,\n",
       "  0.0013564929352855161,\n",
       "  0.00135074058533557,\n",
       "  0.0013642296783157825,\n",
       "  0.0013576012733633811,\n",
       "  0.0013651486911606349,\n",
       "  0.0013538993005434549,\n",
       "  0.0013697909252569876,\n",
       "  0.0013440244608195193,\n",
       "  0.0013432914790010308,\n",
       "  0.0013722788398160268,\n",
       "  0.0013374243920611182,\n",
       "  0.0013641177286434437,\n",
       "  0.0013387487499552798,\n",
       "  0.0013756520289856947,\n",
       "  0.0013629858505811183]}"
      ]
     },
     "execution_count": 17,
     "metadata": {},
     "output_type": "execute_result"
    }
   ],
   "source": [
    "history.history"
   ]
  },
  {
   "cell_type": "code",
   "execution_count": 54,
   "metadata": {
    "collapsed": true
   },
   "outputs": [],
   "source": [
    "mse = history.history['mean_squared_error']\n",
    "mse_df = pd.DataFrame(mse)\n",
    "mse_df.to_csv('mseadagrad.csv', index=False)"
   ]
  },
  {
   "cell_type": "code",
   "execution_count": 55,
   "metadata": {
    "collapsed": true
   },
   "outputs": [],
   "source": [
    "val_mse = history.history['val_mean_squared_error']\n",
    "val_mse_df = pd.DataFrame(val_mse)\n",
    "val_mse_df.to_csv('valadafrad.csv', index=False)"
   ]
  },
  {
   "cell_type": "code",
   "execution_count": 93,
   "metadata": {},
   "outputs": [
    {
     "data": {
      "text/plain": [
       "[<matplotlib.lines.Line2D at 0x2b36fe01518>]"
      ]
     },
     "execution_count": 93,
     "metadata": {},
     "output_type": "execute_result"
    },
    {
     "data": {
      "image/png": "[encoded data removed]",
      "text/plain": [
       "<Figure size 432x288 with 1 Axes>"
      ]
     },
     "metadata": {},
     "output_type": "display_data"
    }
   ],
   "source": [
    "y=model.predict_on_batch(ted)\n",
    "y.shape\n",
    "ted.shape\n",
    "prediction = []\n",
    "ground_truth = []\n",
    "for i in range (62,82):\n",
    "    for j in range (0,13):\n",
    "        prediction.append(y[i][j][0])\n",
    "        ground_truth.append(ted[i][j][0])\n",
    "%matplotlib inline\n",
    "import matplotlib.pyplot as plt\n",
    "plt.plot(prediction)"
   ]
  },
  {
   "cell_type": "code",
   "execution_count": 88,
   "metadata": {},
   "outputs": [
    {
     "data": {
      "text/plain": [
       "[<matplotlib.lines.Line2D at 0x2b36d3bdc88>]"
      ]
     },
     "execution_count": 88,
     "metadata": {},
     "output_type": "execute_result"
    },
    {
     "data": {
      "image/png": "[encoded data removed]",
      "text/plain": [
       "<Figure size 432x288 with 1 Axes>"
      ]
     },
     "metadata": {},
     "output_type": "display_data"
    }
   ],
   "source": [
    "plt.plot(ground_truth)"
   ]
  },
  {
   "cell_type": "code",
   "execution_count": 94,
   "metadata": {
    "collapsed": true
   },
   "outputs": [],
   "source": [
    "prediction = pd.DataFrame(prediction)\n",
    "prediction.to_csv('predictionsgd.csv' , index=False)\n",
    "ground_truth_df = pd.DataFrame(ground_truth)\n",
    "ground_truth_df.to_csv('ground_truth.csv', index=False)"
   ]
  }
 ],
 "metadata": {
  "kernelspec": {
   "display_name": "Python 3",
   "language": "python",
   "name": "python3"
  },
  "language_info": {
   "codemirror_mode": {
    "name": "ipython",
    "version": 3
   },
   "file_extension": ".py",
   "mimetype": "text/x-python",
   "name": "python",
   "nbconvert_exporter": "python",
   "pygments_lexer": "ipython3",
   "version": "3.6.3"
  }
 },
 "nbformat": 4,
 "nbformat_minor": 2
}
