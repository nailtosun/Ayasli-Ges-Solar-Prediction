{
 "cells": [
  {
   "cell_type": "code",
   "execution_count": 3,
   "metadata": {
    "collapsed": true
   },
   "outputs": [],
   "source": [
    "from __future__ import print_function\n",
    "import os\n",
    "import numpy as np\n",
    "import pandas as pd\n",
    "import matplotlib.pyplot as plt\n",
    "import keras\n",
    "from keras import metrics\n",
    "from keras import regularizers\n",
    "from keras.models import Sequential\n",
    "from keras.layers import Dense, Dropout, Flatten, Activation\n",
    "from keras.layers import Conv2D, MaxPooling2D\n",
    "from keras.optimizers import Adam, RMSprop\n",
    "from keras.callbacks import TensorBoard, EarlyStopping, ModelCheckpoint\n",
    "from keras.utils import plot_model\n",
    "from keras.models import load_model\n",
    "data=pd.read_csv('july-dataset4.csv')\n",
    "humidity = data['Humidity']\n",
    "Epoch_Time = data['Epoch_Time']\n",
    "Cloud_Cover = data['Cloud_Cover']\n",
    "Dew_Point = data['Dew_Point']\n",
    "Humidity = data['Humidity']\n",
    "Pressure = data['Pressure']\n",
    "Temperature = data['Temperature']\n",
    "Wind_Speed = data['Wind_Speed']\n",
    "Visibility = data['Visibility']"
   ]
  },
  {
   "cell_type": "code",
   "execution_count": 1,
   "metadata": {
    "collapsed": true
   },
   "outputs": [],
   "source": [
    "def spliting_data(df, training_percent = 0.7, validation_percent = 0.15, testing_percent = 0.15, seed = None):\n",
    "    np.random.seed(seed)\n",
    "    total_size = training_percent + validation_percent + testing_percent\n",
    "    if total_size != 1:\n",
    "        raise ValueError('total size must be 1 not {}'.format(total_size))\n",
    "    training_end = int(training_percent * len(df))\n",
    "    validate_end = int(validation_percent * len(df)) + training_end\n",
    "    perm = np.random.permutation(df.index) # randomize indexs\n",
    "    training = perm[:training_end]\n",
    "    validate = perm[training_end:validate_end]\n",
    "    testing = perm[validate_end:]\n",
    "    return training, validate, testing"
   ]
  },
  {
   "cell_type": "code",
   "execution_count": 5,
   "metadata": {
    "collapsed": true
   },
   "outputs": [],
   "source": [
    "training,validate,testing = spliting_data(data)"
   ]
  },
  {
   "cell_type": "code",
   "execution_count": 6,
   "metadata": {
    "collapsed": true
   },
   "outputs": [],
   "source": [
    "df = pd.DataFrame(data, columns=[\n",
    "        'Epoch_Time','Cloud_Cover','Dew_Point',\n",
    "        'Humidity','Pressure','Temperature','Wind_Speed','Visibility',\n",
    "        'Power_Output'])\n",
    "label_col = 'Power_Output'"
   ]
  },
  {
   "cell_type": "code",
   "execution_count": 7,
   "metadata": {},
   "outputs": [
    {
     "name": "stdout",
     "output_type": "stream",
     "text": [
      "Size of training set:  6249\n",
      "Size of validation set:  1339\n",
      "Size of test set:  1340 (not converted)\n"
     ]
    }
   ],
   "source": [
    "y_train = df.loc[training, [label_col]]\n",
    "x_train = df.loc[training, :].drop(label_col, axis=1)\n",
    "y_valid = df.loc[validate, [label_col]]\n",
    "x_valid = df.loc[validate, :].drop(label_col, axis=1)\n",
    "\n",
    "print('Size of training set: ', len(x_train))\n",
    "print('Size of validation set: ', len(x_valid))\n",
    "print('Size of test set: ', len(testing), '(not converted)')"
   ]
  },
  {
   "cell_type": "code",
   "execution_count": 8,
   "metadata": {},
   "outputs": [
    {
     "name": "stdout",
     "output_type": "stream",
     "text": [
      "Training shape: (6249, 8)\n",
      "Training samples:  6249\n",
      "Validation samples:  1339\n"
     ]
    }
   ],
   "source": [
    "def norm_stats(df1, df2):\n",
    "    dfs = df1.append(df2)\n",
    "    minimum = np.min(dfs)\n",
    "    maximum = np.max(dfs)\n",
    "    mu = np.mean(dfs)\n",
    "    sigma = np.std(dfs)\n",
    "    return (minimum, maximum, mu, sigma)\n",
    "\n",
    "def z_score(col, stats):\n",
    "    m, M, mu, s = stats\n",
    "    df2 = pd.DataFrame()\n",
    "    for c in col.columns:\n",
    "        df2[c] = (col[c]-mu[c])/s[c]\n",
    "    return df2\n",
    "\n",
    "stats = norm_stats(x_train, x_valid)\n",
    "arr_x_train = np.array(z_score(x_train, stats))\n",
    "arr_y_train = np.array(y_train)\n",
    "arr_x_valid = np.array(z_score(x_valid, stats))\n",
    "arr_y_valid = np.array(y_valid)\n",
    "\n",
    "print('Training shape:', arr_x_train.shape)\n",
    "print('Training samples: ', arr_x_train.shape[0])\n",
    "print('Validation samples: ', arr_x_valid.shape[0])"
   ]
  },
  {
   "cell_type": "code",
   "execution_count": 9,
   "metadata": {
    "collapsed": true
   },
   "outputs": [],
   "source": [
    "def basic_model_3(x_size, y_size):\n",
    "    t_model = Sequential()\n",
    "    t_model.add(Dense(80, activation=\"tanh\", kernel_initializer='normal', input_shape=(x_size,)))\n",
    "    t_model.add(Dropout(0.2))\n",
    "    t_model.add(Dense(120, activation=\"relu\", kernel_initializer='normal', \n",
    "        kernel_regularizer=regularizers.l1(0.01), bias_regularizer=regularizers.l1(0.01)))\n",
    "    t_model.add(Dropout(0.1))\n",
    "    t_model.add(Dense(20, activation=\"relu\", kernel_initializer='normal', \n",
    "        kernel_regularizer=regularizers.l1_l2(0.01), bias_regularizer=regularizers.l1_l2(0.01)))\n",
    "    t_model.add(Dropout(0.1))\n",
    "    t_model.add(Dense(10, activation=\"relu\", kernel_initializer='normal'))\n",
    "    t_model.add(Dropout(0.0))\n",
    "    t_model.add(Dense(y_size))\n",
    "    t_model.compile(\n",
    "        loss='mean_squared_error',\n",
    "        optimizer='nadam',\n",
    "        metrics=[metrics.mae])\n",
    "    return(t_model)"
   ]
  },
  {
   "cell_type": "code",
   "execution_count": 10,
   "metadata": {},
   "outputs": [
    {
     "name": "stdout",
     "output_type": "stream",
     "text": [
      "_________________________________________________________________\n",
      "Layer (type)                 Output Shape              Param #   \n",
      "=================================================================\n",
      "dense_1 (Dense)              (None, 80)                720       \n",
      "_________________________________________________________________\n",
      "dropout_1 (Dropout)          (None, 80)                0         \n",
      "_________________________________________________________________\n",
      "dense_2 (Dense)              (None, 120)               9720      \n",
      "_________________________________________________________________\n",
      "dropout_2 (Dropout)          (None, 120)               0         \n",
      "_________________________________________________________________\n",
      "dense_3 (Dense)              (None, 20)                2420      \n",
      "_________________________________________________________________\n",
      "dropout_3 (Dropout)          (None, 20)                0         \n",
      "_________________________________________________________________\n",
      "dense_4 (Dense)              (None, 10)                210       \n",
      "_________________________________________________________________\n",
      "dropout_4 (Dropout)          (None, 10)                0         \n",
      "_________________________________________________________________\n",
      "dense_5 (Dense)              (None, 1)                 11        \n",
      "=================================================================\n",
      "Total params: 13,081\n",
      "Trainable params: 13,081\n",
      "Non-trainable params: 0\n",
      "_________________________________________________________________\n"
     ]
    }
   ],
   "source": [
    "model = basic_model_3(arr_x_train.shape[1], arr_y_train.shape[1])\n",
    "model.summary()"
   ]
  },
  {
   "cell_type": "code",
   "execution_count": 20,
   "metadata": {},
   "outputs": [
    {
     "name": "stdout",
     "output_type": "stream",
     "text": [
      "Epochs:  250\n",
      "Batch size:  32\n"
     ]
    }
   ],
   "source": [
    "epochs = 250\n",
    "batch_size = 32\n",
    "\n",
    "print('Epochs: ', epochs)\n",
    "print('Batch size: ', batch_size)\n",
    "keras_callbacks = [\n",
    "    # ModelCheckpoint('/tmp/keras_checkpoints/model.{epoch:02d}-{val_loss:.2f}.hdf5', monitor='val_loss', save_best_only=True, verbose=2)\n",
    "    # ModelCheckpoint('/tmp/keras_checkpoints/model.{epoch:02d}.hdf5', monitor='val_loss', save_best_only=True, verbose=0)\n",
    "    # TensorBoard(log_dir='/tmp/keras_logs/model_3', histogram_freq=0, write_graph=True, write_images=True, embeddings_freq=0, embeddings_layer_names=None, embeddings_metadata=None),\n",
    "    EarlyStopping(monitor='val_mean_absolute_error', patience=20, verbose=0)\n",
    "]"
   ]
  },
  {
   "cell_type": "code",
   "execution_count": 21,
   "metadata": {},
   "outputs": [
    {
     "name": "stdout",
     "output_type": "stream",
     "text": [
      "Train on 6249 samples, validate on 1339 samples\n",
      "Epoch 1/250\n",
      " - 0s - loss: 35974758.0323 - mean_absolute_error: 3795.6491 - val_loss: 28840854.6378 - val_mean_absolute_error: 3281.2168\n",
      "Epoch 2/250\n",
      " - 0s - loss: 35377795.5929 - mean_absolute_error: 3772.8530 - val_loss: 24006319.1128 - val_mean_absolute_error: 2798.8250\n",
      "Epoch 3/250\n",
      " - 0s - loss: 36102407.0030 - mean_absolute_error: 3858.3892 - val_loss: 23694865.1113 - val_mean_absolute_error: 2739.4458\n",
      "Epoch 4/250\n",
      " - 0s - loss: 35907932.6645 - mean_absolute_error: 3806.4455 - val_loss: 23768211.0948 - val_mean_absolute_error: 2740.9374\n",
      "Epoch 5/250\n",
      " - 0s - loss: 36004908.5353 - mean_absolute_error: 3797.6419 - val_loss: 23078148.6243 - val_mean_absolute_error: 2718.0266\n",
      "Epoch 6/250\n",
      " - 0s - loss: 34606012.5803 - mean_absolute_error: 3706.4598 - val_loss: 23103868.9141 - val_mean_absolute_error: 2706.4294\n",
      "Epoch 7/250\n",
      " - 0s - loss: 35096113.4937 - mean_absolute_error: 3751.3420 - val_loss: 24593504.2450 - val_mean_absolute_error: 2856.4883\n",
      "Epoch 8/250\n",
      " - 0s - loss: 35008401.3404 - mean_absolute_error: 3766.5008 - val_loss: 25679621.9955 - val_mean_absolute_error: 2967.9756\n",
      "Epoch 9/250\n",
      " - 0s - loss: 34680150.4657 - mean_absolute_error: 3745.2412 - val_loss: 23916570.1897 - val_mean_absolute_error: 2763.2704\n",
      "Epoch 10/250\n",
      " - 0s - loss: 34413472.0717 - mean_absolute_error: 3750.8631 - val_loss: 24976384.8335 - val_mean_absolute_error: 2913.0253\n",
      "Epoch 11/250\n",
      " - 0s - loss: 35139706.1453 - mean_absolute_error: 3766.6435 - val_loss: 25236626.5392 - val_mean_absolute_error: 2939.0690\n",
      "Epoch 12/250\n",
      " - 0s - loss: 33716710.7659 - mean_absolute_error: 3684.0831 - val_loss: 23182449.0904 - val_mean_absolute_error: 2719.2471\n",
      "Epoch 13/250\n",
      " - 0s - loss: 34669556.6595 - mean_absolute_error: 3714.6443 - val_loss: 23188530.7244 - val_mean_absolute_error: 2704.5878\n",
      "Epoch 14/250\n",
      " - 0s - loss: 35771366.2304 - mean_absolute_error: 3823.8548 - val_loss: 23928840.2539 - val_mean_absolute_error: 2780.5837\n",
      "Epoch 15/250\n",
      " - 0s - loss: 34055308.4577 - mean_absolute_error: 3708.9592 - val_loss: 24362677.4220 - val_mean_absolute_error: 2837.4877\n",
      "Epoch 16/250\n",
      " - 0s - loss: 35172282.5719 - mean_absolute_error: 3767.8539 - val_loss: 24983698.8559 - val_mean_absolute_error: 2841.4674\n",
      "Epoch 17/250\n",
      " - 0s - loss: 34676448.6033 - mean_absolute_error: 3734.5367 - val_loss: 26107709.8760 - val_mean_absolute_error: 3021.2341\n",
      "Epoch 18/250\n",
      " - 0s - loss: 33787902.0051 - mean_absolute_error: 3676.8703 - val_loss: 23326872.9380 - val_mean_absolute_error: 2749.1256\n",
      "Epoch 19/250\n",
      " - 0s - loss: 34629806.5137 - mean_absolute_error: 3722.4339 - val_loss: 26260377.2756 - val_mean_absolute_error: 3052.1568\n",
      "Epoch 20/250\n",
      " - 0s - loss: 34164135.8934 - mean_absolute_error: 3693.9091 - val_loss: 24869614.8887 - val_mean_absolute_error: 2934.7866\n",
      "Epoch 21/250\n",
      " - 0s - loss: 34069759.4149 - mean_absolute_error: 3679.7742 - val_loss: 22348602.4317 - val_mean_absolute_error: 2629.8195\n",
      "Epoch 22/250\n",
      " - 0s - loss: 34536135.9926 - mean_absolute_error: 3707.5616 - val_loss: 24364999.2143 - val_mean_absolute_error: 2813.2964\n",
      "Epoch 23/250\n",
      " - 0s - loss: 33597652.6969 - mean_absolute_error: 3655.0199 - val_loss: 23281136.9828 - val_mean_absolute_error: 2749.2801\n",
      "Epoch 24/250\n",
      " - 0s - loss: 35545660.4199 - mean_absolute_error: 3717.7611 - val_loss: 23277244.6214 - val_mean_absolute_error: 2759.1033\n",
      "Epoch 25/250\n",
      " - 0s - loss: 33963036.1735 - mean_absolute_error: 3675.5450 - val_loss: 23807966.1210 - val_mean_absolute_error: 2809.1087\n",
      "Epoch 26/250\n",
      " - 0s - loss: 35150616.1459 - mean_absolute_error: 3737.3797 - val_loss: 22472197.3951 - val_mean_absolute_error: 2653.1724\n",
      "Epoch 27/250\n",
      " - 0s - loss: 34613106.3569 - mean_absolute_error: 3724.9595 - val_loss: 22164379.3637 - val_mean_absolute_error: 2653.7280\n",
      "Epoch 28/250\n",
      " - 0s - loss: 33357651.6822 - mean_absolute_error: 3625.7696 - val_loss: 22897122.3361 - val_mean_absolute_error: 2699.1851\n",
      "Epoch 29/250\n",
      " - 0s - loss: 35326873.2845 - mean_absolute_error: 3734.9368 - val_loss: 23501653.4787 - val_mean_absolute_error: 2783.5593\n",
      "Epoch 30/250\n",
      " - 0s - loss: 34189912.1383 - mean_absolute_error: 3664.0084 - val_loss: 22055676.9978 - val_mean_absolute_error: 2644.0940\n",
      "Epoch 31/250\n",
      " - 0s - loss: 34206486.1443 - mean_absolute_error: 3699.2293 - val_loss: 21250216.3346 - val_mean_absolute_error: 2582.9569\n",
      "Epoch 32/250\n",
      " - 0s - loss: 32603880.8606 - mean_absolute_error: 3612.1614 - val_loss: 22327276.5497 - val_mean_absolute_error: 2670.0767\n",
      "Epoch 33/250\n",
      " - 0s - loss: 33607038.6622 - mean_absolute_error: 3658.8153 - val_loss: 21882306.1524 - val_mean_absolute_error: 2574.2407\n",
      "Epoch 34/250\n",
      " - 0s - loss: 34358575.8035 - mean_absolute_error: 3660.7973 - val_loss: 24194420.3943 - val_mean_absolute_error: 2872.6600\n",
      "Epoch 35/250\n",
      " - 0s - loss: 32242334.3476 - mean_absolute_error: 3594.4750 - val_loss: 22275235.5788 - val_mean_absolute_error: 2639.6997\n",
      "Epoch 36/250\n",
      " - 0s - loss: 33894493.4681 - mean_absolute_error: 3657.0550 - val_loss: 22129260.6453 - val_mean_absolute_error: 2645.5448\n",
      "Epoch 37/250\n",
      " - 0s - loss: 33298807.2383 - mean_absolute_error: 3622.9246 - val_loss: 24090800.9022 - val_mean_absolute_error: 2839.7821\n",
      "Epoch 38/250\n",
      " - 0s - loss: 33576118.9150 - mean_absolute_error: 3662.7196 - val_loss: 24096815.5549 - val_mean_absolute_error: 2845.8921\n",
      "Epoch 39/250\n",
      " - 0s - loss: 32980625.5586 - mean_absolute_error: 3628.8377 - val_loss: 22407664.7259 - val_mean_absolute_error: 2667.5117\n",
      "Epoch 40/250\n",
      " - 0s - loss: 32486616.9658 - mean_absolute_error: 3583.4627 - val_loss: 21841186.5601 - val_mean_absolute_error: 2602.5192\n",
      "Epoch 41/250\n",
      " - 0s - loss: 32345799.6647 - mean_absolute_error: 3561.1428 - val_loss: 21053407.1815 - val_mean_absolute_error: 2516.9043\n",
      "Epoch 42/250\n",
      " - 0s - loss: 32497264.8046 - mean_absolute_error: 3615.0925 - val_loss: 22561837.3114 - val_mean_absolute_error: 2700.0925\n",
      "Epoch 43/250\n",
      " - 0s - loss: 32545363.8009 - mean_absolute_error: 3583.2370 - val_loss: 22746122.9634 - val_mean_absolute_error: 2704.9243\n",
      "Epoch 44/250\n",
      " - 0s - loss: 32906600.1149 - mean_absolute_error: 3579.0872 - val_loss: 22391040.2211 - val_mean_absolute_error: 2697.9126\n",
      "Epoch 45/250\n",
      " - 0s - loss: 33532645.1410 - mean_absolute_error: 3633.3396 - val_loss: 22606306.8260 - val_mean_absolute_error: 2709.2091\n",
      "Epoch 46/250\n",
      " - 0s - loss: 32644475.7587 - mean_absolute_error: 3592.0483 - val_loss: 22305967.1665 - val_mean_absolute_error: 2660.6524\n",
      "Epoch 47/250\n",
      " - 0s - loss: 31691659.7510 - mean_absolute_error: 3543.3725 - val_loss: 23716941.6221 - val_mean_absolute_error: 2817.6166\n",
      "Epoch 48/250\n",
      " - 0s - loss: 32636364.6119 - mean_absolute_error: 3600.1471 - val_loss: 22190504.0926 - val_mean_absolute_error: 2643.1547\n",
      "Epoch 49/250\n",
      " - 0s - loss: 33003260.6798 - mean_absolute_error: 3608.7314 - val_loss: 22204809.2726 - val_mean_absolute_error: 2674.4340\n",
      "Epoch 50/250\n",
      " - 0s - loss: 33313064.0723 - mean_absolute_error: 3621.7982 - val_loss: 22340340.2390 - val_mean_absolute_error: 2630.3507\n",
      "Epoch 51/250\n",
      " - 0s - loss: 32116222.5534 - mean_absolute_error: 3553.0843 - val_loss: 24262767.6415 - val_mean_absolute_error: 2823.3139\n",
      "Epoch 52/250\n",
      " - 0s - loss: 31933368.8155 - mean_absolute_error: 3538.4372 - val_loss: 21461397.9089 - val_mean_absolute_error: 2637.7416\n",
      "Epoch 53/250\n",
      " - 0s - loss: 32020867.2351 - mean_absolute_error: 3539.6891 - val_loss: 21145961.3503 - val_mean_absolute_error: 2515.0779\n",
      "Epoch 54/250\n",
      " - 0s - loss: 31781384.9947 - mean_absolute_error: 3531.1371 - val_loss: 21142270.2465 - val_mean_absolute_error: 2589.6961\n",
      "Epoch 55/250\n",
      " - 0s - loss: 32234169.9696 - mean_absolute_error: 3549.9685 - val_loss: 20371389.1680 - val_mean_absolute_error: 2454.5736\n",
      "Epoch 56/250\n",
      " - 0s - loss: 32140662.0566 - mean_absolute_error: 3525.6829 - val_loss: 22339920.5586 - val_mean_absolute_error: 2701.5727\n",
      "Epoch 57/250\n",
      " - 0s - loss: 32769671.3714 - mean_absolute_error: 3574.6775 - val_loss: 22427526.7722 - val_mean_absolute_error: 2705.3786\n",
      "Epoch 58/250\n",
      " - 0s - loss: 31960809.7078 - mean_absolute_error: 3558.3494 - val_loss: 20405810.0403 - val_mean_absolute_error: 2493.0196\n",
      "Epoch 59/250\n",
      " - 0s - loss: 32464261.1707 - mean_absolute_error: 3601.2089 - val_loss: 23519052.5377 - val_mean_absolute_error: 2738.7652\n",
      "Epoch 60/250\n",
      " - 0s - loss: 31036177.7324 - mean_absolute_error: 3471.3875 - val_loss: 23241927.4473 - val_mean_absolute_error: 2735.5461\n"
     ]
    },
    {
     "name": "stdout",
     "output_type": "stream",
     "text": [
      "Epoch 61/250\n",
      " - 0s - loss: 32959772.2829 - mean_absolute_error: 3632.2224 - val_loss: 22639053.6102 - val_mean_absolute_error: 2777.9670\n",
      "Epoch 62/250\n",
      " - 0s - loss: 32402577.6412 - mean_absolute_error: 3546.9906 - val_loss: 21028796.0597 - val_mean_absolute_error: 2566.9625\n",
      "Epoch 63/250\n",
      " - 0s - loss: 32592718.6724 - mean_absolute_error: 3594.1411 - val_loss: 21507340.5527 - val_mean_absolute_error: 2596.5508\n",
      "Epoch 64/250\n",
      " - 0s - loss: 32596652.4186 - mean_absolute_error: 3560.1027 - val_loss: 20364977.4653 - val_mean_absolute_error: 2482.8220\n",
      "Epoch 65/250\n",
      " - 0s - loss: 32203034.1924 - mean_absolute_error: 3564.0335 - val_loss: 22064937.8372 - val_mean_absolute_error: 2682.2009\n",
      "Epoch 66/250\n",
      " - 0s - loss: 32131674.5226 - mean_absolute_error: 3545.2306 - val_loss: 23002573.8223 - val_mean_absolute_error: 2771.5927\n",
      "Epoch 67/250\n",
      " - 0s - loss: 30889298.8741 - mean_absolute_error: 3483.0863 - val_loss: 21598452.4705 - val_mean_absolute_error: 2571.1231\n",
      "Epoch 68/250\n",
      " - 0s - loss: 31355141.4001 - mean_absolute_error: 3512.5802 - val_loss: 24297554.8768 - val_mean_absolute_error: 2876.3787\n",
      "Epoch 69/250\n",
      " - 0s - loss: 31973088.9394 - mean_absolute_error: 3536.0316 - val_loss: 22925909.0067 - val_mean_absolute_error: 2769.0091\n",
      "Epoch 70/250\n",
      " - 0s - loss: 31506710.1827 - mean_absolute_error: 3502.4156 - val_loss: 19529358.5362 - val_mean_absolute_error: 2411.8934\n",
      "Epoch 71/250\n",
      " - 0s - loss: 31712944.6873 - mean_absolute_error: 3542.8592 - val_loss: 21224072.9052 - val_mean_absolute_error: 2534.9804\n",
      "Epoch 72/250\n",
      " - 0s - loss: 30644419.9925 - mean_absolute_error: 3490.9120 - val_loss: 21868084.1822 - val_mean_absolute_error: 2643.8909\n",
      "Epoch 73/250\n",
      " - 0s - loss: 31572838.2756 - mean_absolute_error: 3489.8204 - val_loss: 20470372.0015 - val_mean_absolute_error: 2518.8562\n",
      "Epoch 74/250\n",
      " - 0s - loss: 30041529.6438 - mean_absolute_error: 3448.4146 - val_loss: 20461743.0560 - val_mean_absolute_error: 2515.7067\n",
      "Epoch 75/250\n",
      " - 0s - loss: 32472475.5622 - mean_absolute_error: 3550.4569 - val_loss: 20280979.8028 - val_mean_absolute_error: 2521.3432\n",
      "Epoch 76/250\n",
      " - 0s - loss: 31435659.4036 - mean_absolute_error: 3520.0041 - val_loss: 22562460.9320 - val_mean_absolute_error: 2708.3367\n",
      "Epoch 77/250\n",
      " - 0s - loss: 31763750.7481 - mean_absolute_error: 3517.8989 - val_loss: 20856526.7752 - val_mean_absolute_error: 2542.2337\n",
      "Epoch 78/250\n",
      " - 0s - loss: 31370354.2839 - mean_absolute_error: 3505.0214 - val_loss: 22223641.1143 - val_mean_absolute_error: 2691.2168\n",
      "Epoch 79/250\n",
      " - 0s - loss: 31241841.3066 - mean_absolute_error: 3475.8610 - val_loss: 19648740.5019 - val_mean_absolute_error: 2416.4519\n",
      "Epoch 80/250\n",
      " - 0s - loss: 31947742.4297 - mean_absolute_error: 3518.6809 - val_loss: 20857265.4249 - val_mean_absolute_error: 2568.8710\n",
      "Epoch 81/250\n",
      " - 0s - loss: 31476060.5146 - mean_absolute_error: 3511.8730 - val_loss: 21222639.3816 - val_mean_absolute_error: 2618.7637\n",
      "Epoch 82/250\n",
      " - 0s - loss: 31563026.1924 - mean_absolute_error: 3541.9599 - val_loss: 21835147.9343 - val_mean_absolute_error: 2620.3827\n",
      "Epoch 83/250\n",
      " - 0s - loss: 31416783.2636 - mean_absolute_error: 3511.4850 - val_loss: 20527585.0381 - val_mean_absolute_error: 2484.2742\n",
      "Epoch 84/250\n",
      " - 0s - loss: 30418192.2234 - mean_absolute_error: 3444.6947 - val_loss: 20419773.1023 - val_mean_absolute_error: 2503.1734\n",
      "Epoch 85/250\n",
      " - 0s - loss: 31221878.4676 - mean_absolute_error: 3514.3774 - val_loss: 19624494.1598 - val_mean_absolute_error: 2461.8793\n",
      "Epoch 86/250\n",
      " - 0s - loss: 30996958.8133 - mean_absolute_error: 3466.4927 - val_loss: 21295196.6632 - val_mean_absolute_error: 2634.5755\n",
      "Epoch 87/250\n",
      " - 0s - loss: 31246998.2804 - mean_absolute_error: 3522.1298 - val_loss: 21045450.1658 - val_mean_absolute_error: 2622.5515\n",
      "Epoch 88/250\n",
      " - 0s - loss: 29852761.2316 - mean_absolute_error: 3453.3606 - val_loss: 19283028.5497 - val_mean_absolute_error: 2450.2896\n",
      "Epoch 89/250\n",
      " - 0s - loss: 30471072.8417 - mean_absolute_error: 3487.7795 - val_loss: 20439905.3323 - val_mean_absolute_error: 2550.8539\n",
      "Epoch 90/250\n",
      " - 0s - loss: 30738209.2328 - mean_absolute_error: 3481.0185 - val_loss: 19500662.0493 - val_mean_absolute_error: 2442.3199\n"
     ]
    }
   ],
   "source": [
    "history = model.fit(arr_x_train, arr_y_train,\n",
    "    batch_size=batch_size,\n",
    "    epochs=epochs,\n",
    "    shuffle=True,\n",
    "    verbose=2, # Change it to 2, if wished to observe execution\n",
    "    validation_data=(arr_x_valid, arr_y_valid),\n",
    "    callbacks=keras_callbacks)"
   ]
  },
  {
   "cell_type": "code",
   "execution_count": 22,
   "metadata": {},
   "outputs": [
    {
     "name": "stdout",
     "output_type": "stream",
     "text": [
      "Train MAE:  2402.7449 , Train Loss:  17834303.8375\n",
      "Val MAE:  2442.3199 , Val Loss:  19500662.0493\n"
     ]
    }
   ],
   "source": [
    "train_score = model.evaluate(arr_x_train, arr_y_train, verbose=2)\n",
    "valid_score = model.evaluate(arr_x_valid, arr_y_valid, verbose=2)\n",
    "\n",
    "print('Train MAE: ', round(train_score[1], 4), ', Train Loss: ', round(train_score[0], 4)) \n",
    "print('Val MAE: ', round(valid_score[1], 4), ', Val Loss: ', round(valid_score[0], 4))"
   ]
  },
  {
   "cell_type": "code",
   "execution_count": 23,
   "metadata": {
    "collapsed": true
   },
   "outputs": [],
   "source": [
    "def plot_hist(h, xsize=6, ysize=10):\n",
    "    # Prepare plotting\n",
    "    fig_size = plt.rcParams[\"figure.figsize\"]\n",
    "    plt.rcParams[\"figure.figsize\"] = [xsize, ysize]\n",
    "    fig, axes = plt.subplots(nrows=4, ncols=4, sharex=True)\n",
    "    \n",
    "    # summarize history for MAE\n",
    "    plt.subplot(211)\n",
    "    plt.plot(h['mean_absolute_error'])\n",
    "    plt.plot(h['val_mean_absolute_error'])\n",
    "    plt.title('Training vs Validation MAE')\n",
    "    plt.ylabel('MAE')\n",
    "    plt.xlabel('Epoch')\n",
    "    plt.legend(['Train', 'Validation'], loc='upper left')\n",
    "    \n",
    "    # summarize history for loss\n",
    "    plt.subplot(212)\n",
    "    plt.plot(h['loss'])\n",
    "    plt.plot(h['val_loss'])\n",
    "    plt.title('Training vs Validation Loss')\n",
    "    plt.ylabel('Loss')\n",
    "    plt.xlabel('Epoch')\n",
    "    plt.legend(['Train', 'Validation'], loc='upper left')\n",
    "    \n",
    "    # Plot it all in IPython (non-interactive)\n",
    "    plt.draw()\n",
    "    plt.show()\n",
    "\n",
    "    return"
   ]
  },
  {
   "cell_type": "code",
   "execution_count": 19,
   "metadata": {},
   "outputs": [
    {
     "data": {
      "image/png": "[encoded data removed]",
      "text/plain": [
       "<Figure size 576x864 with 2 Axes>"
      ]
     },
     "metadata": {},
     "output_type": "display_data"
    }
   ],
   "source": [
    "plot_hist(history.history, xsize=8, ysize=12)"
   ]
  }
 ],
 "metadata": {
  "kernelspec": {
   "display_name": "Python 3",
   "language": "python",
   "name": "python3"
  },
  "language_info": {
   "codemirror_mode": {
    "name": "ipython",
    "version": 3
   },
   "file_extension": ".py",
   "mimetype": "text/x-python",
   "name": "python",
   "nbconvert_exporter": "python",
   "pygments_lexer": "ipython3",
   "version": "3.6.3"
  }
 },
 "nbformat": 4,
 "nbformat_minor": 2
}
