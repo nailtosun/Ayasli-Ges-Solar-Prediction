{
 "cells": [
  {
   "cell_type": "markdown",
   "metadata": {},
   "source": [
    "# Univariate LSTM"
   ]
  },
  {
   "cell_type": "code",
   "execution_count": 21,
   "metadata": {},
   "outputs": [],
   "source": [
    "import os\n",
    "import time\n",
    "import warnings\n",
    "import numpy as np\n",
    "from numpy import newaxis\n",
    "from keras.layers.core import Dense, Activation, Dropout\n",
    "from keras.layers.recurrent import LSTM\n",
    "from keras.models import Sequential"
   ]
  },
  {
   "cell_type": "code",
   "execution_count": 22,
   "metadata": {
    "collapsed": true
   },
   "outputs": [],
   "source": [
    "os.environ['TF_CPP_MIN_LOG_LEVEL'] = '3' #Hide messy TensorFlow warnings\n",
    "warnings.filterwarnings(\"ignore\") #Hide messy Numpy warnings"
   ]
  },
  {
   "cell_type": "code",
   "execution_count": 3,
   "metadata": {
    "collapsed": true
   },
   "outputs": [],
   "source": [
    "def load_data(filename, seq_len, normalise_window):\n",
    "    f = open(filename, 'rb').read()\n",
    "    data = f.decode().split('\\n')\n",
    "\n",
    "    sequence_length = seq_len + 1\n",
    "    result = []\n",
    "    for index in range(len(data) - sequence_length):\n",
    "        result.append(data[index: index + sequence_length])\n",
    "    \n",
    "    if normalise_window:\n",
    "        result = normalise_windows(result)\n",
    "\n",
    "    result = np.array(result)\n",
    "\n",
    "    row = round(0.8 * result.shape[0])\n",
    "    train = result[:int(row), :]\n",
    "    np.random.shuffle(train)\n",
    "    x_train = train[:, :-1]\n",
    "    y_train = train[:, -1]\n",
    "    x_test = result[int(row):, :-1]\n",
    "    y_test = result[int(row):, -1]\n",
    "\n",
    "    x_train = np.reshape(x_train, (x_train.shape[0], x_train.shape[1], 1))\n",
    "    x_test = np.reshape(x_test, (x_test.shape[0], x_test.shape[1], 1))  \n",
    "\n",
    "    return [x_train, y_train, x_test, y_test]"
   ]
  },
  {
   "cell_type": "code",
   "execution_count": 4,
   "metadata": {
    "collapsed": true
   },
   "outputs": [],
   "source": [
    "def normalise_windows(window_data):\n",
    "    normalised_data = []\n",
    "    for window in window_data:\n",
    "        normalised_window = [((float(p) / float(window[0])) - 1) for p in window]\n",
    "        normalised_data.append(normalised_window)\n",
    "    return normalised_data\n"
   ]
  },
  {
   "cell_type": "code",
   "execution_count": 5,
   "metadata": {
    "collapsed": true
   },
   "outputs": [],
   "source": [
    "def build_model(layers):\n",
    "    model = Sequential()\n",
    "\n",
    "    model.add(LSTM(\n",
    "        input_shape=(layers[1], layers[0]),\n",
    "        output_dim=layers[1],\n",
    "        return_sequences=True))\n",
    "    model.add(Dropout(0.2))\n",
    "\n",
    "    model.add(LSTM(\n",
    "        layers[2],\n",
    "        return_sequences=False))\n",
    "    model.add(Dropout(0.2))\n",
    "\n",
    "    model.add(Dense(\n",
    "        output_dim=layers[3]))\n",
    "    model.add(Activation(\"linear\"))\n",
    "\n",
    "    start = time.time()\n",
    "    model.compile(loss=\"mse\", optimizer=\"rmsprop\")\n",
    "    print(\"> Compilation Time : \", time.time() - start)\n",
    "    return model"
   ]
  },
  {
   "cell_type": "code",
   "execution_count": 6,
   "metadata": {
    "collapsed": true
   },
   "outputs": [],
   "source": [
    "def predict_point_by_point(model, data):\n",
    "    #Predict each timestep given the last sequence of true data, in effect only predicting 1 step ahead each time\n",
    "    predicted = model.predict(data)\n",
    "    predicted = np.reshape(predicted, (predicted.size,))\n",
    "    return predicted\n",
    "\n",
    "def predict_sequence_full(model, data, window_size):\n",
    "    #Shift the window by 1 new prediction each time, re-run predictions on new window\n",
    "    curr_frame = data[0]\n",
    "    predicted = []\n",
    "    for i in range(len(data)):\n",
    "        predicted.append(model.predict(curr_frame[newaxis,:,:])[0,0])\n",
    "        curr_frame = curr_frame[1:]\n",
    "        curr_frame = np.insert(curr_frame, [window_size-1], predicted[-1], axis=0)\n",
    "    return predicted\n",
    "\n",
    "def predict_sequences_multiple(model, data, window_size, prediction_len):\n",
    "    #Predict sequence of 50 steps before shifting prediction run forward by 50 steps\n",
    "    prediction_seqs = []\n",
    "    for i in range(int(len(data)/prediction_len)):\n",
    "        curr_frame = data[i*prediction_len]\n",
    "        predicted = []\n",
    "        for j in range(prediction_len):\n",
    "            predicted.append(model.predict(curr_frame[newaxis,:,:])[0,0])\n",
    "            curr_frame = curr_frame[1:]\n",
    "            curr_frame = np.insert(curr_frame, [window_size-1], predicted[-1], axis=0)\n",
    "        prediction_seqs.append(predicted)\n",
    "    return prediction_seqs"
   ]
  },
  {
   "cell_type": "code",
   "execution_count": 20,
   "metadata": {},
   "outputs": [
    {
     "name": "stdout",
     "output_type": "stream",
     "text": [
      "> Loading data... \n",
      "> Data Loaded. Compiling...\n",
      "> Compilation Time :  0.0312647819519043\n",
      "Train on 4565 samples, validate on 241 samples\n",
      "Epoch 1/20\n",
      "4565/4565 [==============================] - 6s 1ms/step - loss: 19594.5128 - val_loss: 121924.0056\n",
      "Epoch 2/20\n",
      "4565/4565 [==============================] - 3s 592us/step - loss: 19413.9824 - val_loss: 121718.0788\n",
      "Epoch 3/20\n",
      "4565/4565 [==============================] - 3s 592us/step - loss: 19351.3500 - val_loss: 121532.6160\n",
      "Epoch 4/20\n",
      "4565/4565 [==============================] - 3s 588us/step - loss: 19288.6450 - val_loss: 121356.8422\n",
      "Epoch 5/20\n",
      "4565/4565 [==============================] - 3s 591us/step - loss: 19230.2660 - val_loss: 121182.3004\n",
      "Epoch 6/20\n",
      "4565/4565 [==============================] - 3s 628us/step - loss: 19157.1435 - val_loss: 120998.3643\n",
      "Epoch 7/20\n",
      "4565/4565 [==============================] - 3s 592us/step - loss: 19101.0137 - val_loss: 120816.9729\n",
      "Epoch 8/20\n",
      "4565/4565 [==============================] - 3s 624us/step - loss: 19064.9627 - val_loss: 120627.2268\n",
      "Epoch 9/20\n",
      "4565/4565 [==============================] - 3s 624us/step - loss: 18975.9681 - val_loss: 120451.6618\n",
      "Epoch 10/20\n",
      "4565/4565 [==============================] - 3s 670us/step - loss: 18921.6735 - val_loss: 120282.6988\n",
      "Epoch 11/20\n",
      "4565/4565 [==============================] - 3s 660us/step - loss: 18858.6741 - val_loss: 120099.1825\n",
      "Epoch 12/20\n",
      "4565/4565 [==============================] - 3s 622us/step - loss: 18819.0732 - val_loss: 119931.2409\n",
      "Epoch 13/20\n",
      "4565/4565 [==============================] - 3s 722us/step - loss: 18735.3901 - val_loss: 119783.7324\n",
      "Epoch 14/20\n",
      "4565/4565 [==============================] - 3s 650us/step - loss: 18688.1573 - val_loss: 119603.4104\n",
      "Epoch 15/20\n",
      "4565/4565 [==============================] - 3s 595us/step - loss: 18621.2091 - val_loss: 119450.3979\n",
      "Epoch 16/20\n",
      "4565/4565 [==============================] - 3s 628us/step - loss: 18601.1503 - val_loss: 119278.0384\n",
      "Epoch 17/20\n",
      "4565/4565 [==============================] - 3s 598us/step - loss: 18532.6151 - val_loss: 119159.5214\n",
      "Epoch 18/20\n",
      "4565/4565 [==============================] - 3s 628us/step - loss: 18455.8714 - val_loss: 118955.0274\n",
      "Epoch 19/20\n",
      "4565/4565 [==============================] - 3s 606us/step - loss: 18407.8040 - val_loss: 118779.0927\n",
      "Epoch 20/20\n",
      "4565/4565 [==============================] - 3s 602us/step - loss: 18353.2158 - val_loss: 118604.4036\n",
      "Training duration (s) :  66.72509908676147\n"
     ]
    },
    {
     "data": {
      "image/png": "[encoded data removed]",
      "text/plain": [
       "<Figure size 432x288 with 1 Axes>"
      ]
     },
     "metadata": {},
     "output_type": "display_data"
    }
   ],
   "source": [
    "import lstm\n",
    "import time\n",
    "import matplotlib.pyplot as plt\n",
    "\n",
    "def plot_results(predicted_data, true_data):\n",
    "    fig = plt.figure(facecolor='white')\n",
    "    ax = fig.add_subplot(111)\n",
    "    ax.plot(true_data, label='True Data')\n",
    "    plt.plot(predicted_data, label='Prediction')\n",
    "    plt.legend()\n",
    "    plt.show()\n",
    "\n",
    "def plot_results_multiple(predicted_data, true_data, prediction_len):\n",
    "    fig = plt.figure(facecolor='white')\n",
    "    ax = fig.add_subplot(111)\n",
    "    ax.plot(true_data, label='True Data')\n",
    "    #Pad the list of predictions to shift it in the graph to it's correct start\n",
    "    for i, data in enumerate(predicted_data):\n",
    "        padding = [None for p in range(i * prediction_len)]\n",
    "        plt.plot(padding + data, label='Prediction')\n",
    "        plt.legend()\n",
    "    plt.show()\n",
    "\n",
    "#Main Run Thread\n",
    "if __name__=='__main__':\n",
    "    global_start_time = time.time()\n",
    "    epochs  = 20\n",
    "    seq_len = 14\n",
    "\n",
    "    print('> Loading data... ')\n",
    "\n",
    "    X_train, y_train, X_test, y_test = lstm.load_data('julylstmnonzero.csv', seq_len, True)\n",
    "\n",
    "    print('> Data Loaded. Compiling...')\n",
    "\n",
    "    model = lstm.build_model([1, 14, 200, 1])\n",
    "\n",
    "    model.fit(\n",
    "        X_train,\n",
    "        y_train,\n",
    "        batch_size=128,\n",
    "        nb_epoch=epochs,\n",
    "        validation_split=0.05)\n",
    "\n",
    "    predictions = lstm.predict_sequences_multiple(model, X_test, seq_len, 10)\n",
    "    predicted = lstm.predict_sequence_full(model, X_test, seq_len)\n",
    "    predicted = lstm.predict_point_by_point(model, X_test)        \n",
    "\n",
    "    print('Training duration (s) : ', time.time() - global_start_time)\n",
    "    plot_results_multiple(predictions, y_test, 10)"
   ]
  }
 ],
 "metadata": {
  "kernelspec": {
   "display_name": "Python 3",
   "language": "python",
   "name": "python3"
  },
  "language_info": {
   "codemirror_mode": {
    "name": "ipython",
    "version": 3
   },
   "file_extension": ".py",
   "mimetype": "text/x-python",
   "name": "python",
   "nbconvert_exporter": "python",
   "pygments_lexer": "ipython3",
   "version": "3.6.3"
  }
 },
 "nbformat": 4,
 "nbformat_minor": 2
}
