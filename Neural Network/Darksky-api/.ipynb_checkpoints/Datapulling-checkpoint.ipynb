{
 "cells": [
  {
   "cell_type": "markdown",
   "metadata": {
    "collapsed": true
   },
   "source": [
    "# Pulling Data using DarkSky API"
   ]
  },
  {
   "cell_type": "markdown",
   "metadata": {},
   "source": [
    "Required librarires"
   ]
  },
  {
   "cell_type": "code",
   "execution_count": 1,
   "metadata": {
    "collapsed": true
   },
   "outputs": [],
   "source": [
    "import requests\n",
    "import pandas as pd\n",
    "import datetime"
   ]
  },
  {
   "cell_type": "code",
   "execution_count": 2,
   "metadata": {
    "collapsed": true
   },
   "outputs": [],
   "source": [
    "i = 0 #initialize counter"
   ]
  },
  {
   "cell_type": "markdown",
   "metadata": {},
   "source": [
    "## First data"
   ]
  },
  {
   "cell_type": "markdown",
   "metadata": {},
   "source": [
    "Pulling the first data is useful for checking the right format before large amount pulling."
   ]
  },
  {
   "cell_type": "code",
   "execution_count": 3,
   "metadata": {
    "collapsed": true
   },
   "outputs": [],
   "source": [
    "initial_time =  1521061200 #this is the starting time in UNIX format\n",
    "timestamp = initial_time + 300*i #next request is after 5 minutes\n",
    "url = 'https://api.darksky.net/forecast/46c6ec988a099553d673e4a9d317aa73/39.8906,32.7817,' \n",
    "url = url + str(timestamp)\n",
    "data = requests.get(url) #data returned in json format\n",
    "data=data.json() #opening json \n",
    "\n",
    "#Sometimes there may be some missing values from Darksky. Try-except blocks is useful for stopping issues about KeyError\n",
    "\n",
    "try:\n",
    "    cloudCover= data['currently']['cloudCover']\n",
    "except KeyError:\n",
    "    cloudCover = None  \n",
    "try:\n",
    "    temp= data['currently']['apparentTemperature']\n",
    "except KeyError:\n",
    "    temp = None\n",
    "try:\n",
    "    humidity = data['currently']['humidity']\n",
    "except KeyError:\n",
    "    humidity = None\n",
    "try:\n",
    "    icon = data['currently']['icon']\n",
    "except KeyError:\n",
    "    icon = None\n",
    "try:\n",
    "    ozone = data['currently']['ozone']\n",
    "except KeyError:\n",
    "    ozone = None\n",
    "try:\n",
    "    windSpeed = data['currently']['windSpeed']\n",
    "except KeyError:\n",
    "    windSpeed = None\n",
    "try:\n",
    "    windGust = data['currently']['windGust']\n",
    "except KeyError:\n",
    "    windGust = None\n",
    "try:\n",
    "    uvIndex = data['currently']['uvIndex']\n",
    "except KeyError:\n",
    "    uvIndex = None\n",
    "try:\n",
    "    visibility = data['currently']['visibility']\n",
    "except KeyError:\n",
    "    visibility = None\n",
    "try:\n",
    "    windBearing = data['currently']['windBearing']\n",
    "except KeyError:\n",
    "    windBearing = None\n",
    "try:\n",
    "    pressure = data['currently']['pressure']\n",
    "except KeyError:\n",
    "    pressure = None\n",
    "try:\n",
    "    dewPoint = data['currently']['dewPoint']\n",
    "except KeyError:\n",
    "    dewPoint = None\n",
    "row = {'cloudCover':cloudCover , 'temp' : temp , 'humidity' : humidity , 'ozone' : ozone,'windSpeed' : windSpeed ,'windGust' : windGust ,'uvIndex' : uvIndex , 'visibility' : visibility, 'windBearing' : windBearing ,'pressure' : pressure ,\"dewPoint\" : dewPoint}\n",
    "time_index = datetime.datetime.fromtimestamp(int(timestamp)).strftime('%Y-%m-%d %H:%M:%S')\n",
    "df1 = pd.DataFrame(data=row,index=[time_index])"
   ]
  },
  {
   "cell_type": "markdown",
   "metadata": {},
   "source": [
    "## For loop"
   ]
  },
  {
   "cell_type": "code",
   "execution_count": 4,
   "metadata": {
    "collapsed": true
   },
   "outputs": [],
   "source": [
    "for i in range (0,8620): #one month\n",
    "    initial_time = 1525122000+300\n",
    "    timestamp = initial_time + 300*i #5 minute\n",
    "    url = 'https://api.darksky.net/forecast/46c6ec988a099553d673e4a9d317aa73/39.8906,32.7817,' \n",
    "    url = url + str(timestamp)\n",
    "    data = requests.get(url)\n",
    "    data=data.json()\n",
    "    try:\n",
    "        cloudCover= data['currently']['cloudCover']\n",
    "    except KeyError:\n",
    "        cloudCover = None\n",
    "    try:\n",
    "        temp= data['currently']['apparentTemperature']\n",
    "    except KeyError:\n",
    "        temp = None\n",
    "    try:\n",
    "        humidity = data['currently']['humidity']\n",
    "    except KeyError:\n",
    "        humidity = None\n",
    "    try:\n",
    "        icon = data['currently']['icon']\n",
    "    except KeyError:\n",
    "        icon = None\n",
    "    try:\n",
    "        ozone = data['currently']['ozone']\n",
    "    except KeyError:\n",
    "        ozone = None\n",
    "    try:\n",
    "        windSpeed = data['currently']['windSpeed']\n",
    "    except KeyError:\n",
    "        windSpeed = None\n",
    "    try:\n",
    "        windGust = data['currently']['windGust']\n",
    "    except KeyError:\n",
    "        windGust = None\n",
    "    try:\n",
    "        uvIndex = data['currently']['uvIndex']\n",
    "    except KeyError:\n",
    "        uvIndex = None\n",
    "    try:\n",
    "        visibility = data['currently']['visibility']\n",
    "    except KeyError:\n",
    "        visibility = None\n",
    "    try:\n",
    "        windBearing = data['currently']['windBearing']\n",
    "    except KeyError:\n",
    "        windBearing = None\n",
    "    try:\n",
    "        pressure = data['currently']['pressure']\n",
    "    except KeyError:\n",
    "        pressure = None\n",
    "    try:\n",
    "        dewPoint = data['currently']['dewPoint']\n",
    "    except KeyError:\n",
    "        dewPoint = None\n",
    "    row = {'cloudCover':cloudCover , 'temp' : temp , 'humidity' : humidity , 'ozone' : ozone,'windSpeed' : windSpeed ,'windGust' : windGust ,'uvIndex' : uvIndex , 'visibility' : visibility, 'windBearing' : windBearing ,'pressure' : pressure ,\"dewPoint\" : dewPoint}\n",
    "    time_index = datetime.datetime.fromtimestamp(int(timestamp)).strftime('%Y-%m-%d %H:%M:%S')\n",
    "    df = pd.DataFrame(data=row,index=[time_index])\n",
    "    df1 = df1.append(df)"
   ]
  },
  {
   "cell_type": "markdown",
   "metadata": {},
   "source": [
    "## Dataframe to CSV"
   ]
  },
  {
   "cell_type": "code",
   "execution_count": 5,
   "metadata": {
    "collapsed": true
   },
   "outputs": [],
   "source": [
    "df1.to_csv('dataset.csv')"
   ]
  }
 ],
 "metadata": {
  "kernelspec": {
   "display_name": "Python 3",
   "language": "python",
   "name": "python3"
  },
  "language_info": {
   "codemirror_mode": {
    "name": "ipython",
    "version": 3
   },
   "file_extension": ".py",
   "mimetype": "text/x-python",
   "name": "python",
   "nbconvert_exporter": "python",
   "pygments_lexer": "ipython3",
   "version": "3.6.3"
  }
 },
 "nbformat": 4,
 "nbformat_minor": 2
}
